{
 "cells": [
  {
   "cell_type": "markdown",
   "metadata": {},
   "source": [
    "# Prediction on Titanic Dataset"
   ]
  },
  {
   "cell_type": "markdown",
   "metadata": {},
   "source": [
    "### Here, we'll try to predict a classification of survival or deceased on the Titanic Dataset with Logistic Regression Model"
   ]
  },
  {
   "cell_type": "code",
   "execution_count": 100,
   "metadata": {},
   "outputs": [
    {
     "name": "stdout",
     "output_type": "stream",
     "text": [
      "Import complete\n"
     ]
    }
   ],
   "source": [
    "import numpy as np\n",
    "import pandas as pd\n",
    "import seaborn as sns\n",
    "import matplotlib.pyplot as plt\n",
    "%matplotlib inline\n",
    "print(\"Import complete\")"
   ]
  },
  {
   "cell_type": "markdown",
   "metadata": {},
   "source": [
    "## Start the project by reading the data into a pandas data frame"
   ]
  },
  {
   "cell_type": "code",
   "execution_count": 101,
   "metadata": {},
   "outputs": [],
   "source": [
    "df = pd.read_csv(\"titanic.csv\")"
   ]
  },
  {
   "cell_type": "code",
   "execution_count": 102,
   "metadata": {
    "scrolled": true
   },
   "outputs": [
    {
     "data": {
      "text/html": [
       "<div>\n",
       "<style scoped>\n",
       "    .dataframe tbody tr th:only-of-type {\n",
       "        vertical-align: middle;\n",
       "    }\n",
       "\n",
       "    .dataframe tbody tr th {\n",
       "        vertical-align: top;\n",
       "    }\n",
       "\n",
       "    .dataframe thead th {\n",
       "        text-align: right;\n",
       "    }\n",
       "</style>\n",
       "<table border=\"1\" class=\"dataframe\">\n",
       "  <thead>\n",
       "    <tr style=\"text-align: right;\">\n",
       "      <th></th>\n",
       "      <th>pclass</th>\n",
       "      <th>survived</th>\n",
       "      <th>name</th>\n",
       "      <th>sex</th>\n",
       "      <th>age</th>\n",
       "      <th>sibsp</th>\n",
       "      <th>parch</th>\n",
       "      <th>ticket</th>\n",
       "      <th>fare</th>\n",
       "      <th>cabin</th>\n",
       "      <th>embarked</th>\n",
       "      <th>boat</th>\n",
       "      <th>body</th>\n",
       "      <th>home.dest</th>\n",
       "    </tr>\n",
       "  </thead>\n",
       "  <tbody>\n",
       "    <tr>\n",
       "      <th>0</th>\n",
       "      <td>1</td>\n",
       "      <td>1</td>\n",
       "      <td>Allen, Miss. Elisabeth Walton</td>\n",
       "      <td>female</td>\n",
       "      <td>29.00</td>\n",
       "      <td>0</td>\n",
       "      <td>0</td>\n",
       "      <td>24160</td>\n",
       "      <td>211.3375</td>\n",
       "      <td>B5</td>\n",
       "      <td>S</td>\n",
       "      <td>2</td>\n",
       "      <td>NaN</td>\n",
       "      <td>St Louis, MO</td>\n",
       "    </tr>\n",
       "    <tr>\n",
       "      <th>1</th>\n",
       "      <td>1</td>\n",
       "      <td>1</td>\n",
       "      <td>Allison, Master. Hudson Trevor</td>\n",
       "      <td>male</td>\n",
       "      <td>0.92</td>\n",
       "      <td>1</td>\n",
       "      <td>2</td>\n",
       "      <td>113781</td>\n",
       "      <td>151.5500</td>\n",
       "      <td>C22 C26</td>\n",
       "      <td>S</td>\n",
       "      <td>11</td>\n",
       "      <td>NaN</td>\n",
       "      <td>Montreal, PQ / Chesterville, ON</td>\n",
       "    </tr>\n",
       "    <tr>\n",
       "      <th>2</th>\n",
       "      <td>1</td>\n",
       "      <td>0</td>\n",
       "      <td>Allison, Miss. Helen Loraine</td>\n",
       "      <td>female</td>\n",
       "      <td>2.00</td>\n",
       "      <td>1</td>\n",
       "      <td>2</td>\n",
       "      <td>113781</td>\n",
       "      <td>151.5500</td>\n",
       "      <td>C22 C26</td>\n",
       "      <td>S</td>\n",
       "      <td>NaN</td>\n",
       "      <td>NaN</td>\n",
       "      <td>Montreal, PQ / Chesterville, ON</td>\n",
       "    </tr>\n",
       "    <tr>\n",
       "      <th>3</th>\n",
       "      <td>1</td>\n",
       "      <td>0</td>\n",
       "      <td>Allison, Mr. Hudson Joshua Creighton</td>\n",
       "      <td>male</td>\n",
       "      <td>30.00</td>\n",
       "      <td>1</td>\n",
       "      <td>2</td>\n",
       "      <td>113781</td>\n",
       "      <td>151.5500</td>\n",
       "      <td>C22 C26</td>\n",
       "      <td>S</td>\n",
       "      <td>NaN</td>\n",
       "      <td>135.0</td>\n",
       "      <td>Montreal, PQ / Chesterville, ON</td>\n",
       "    </tr>\n",
       "    <tr>\n",
       "      <th>4</th>\n",
       "      <td>1</td>\n",
       "      <td>0</td>\n",
       "      <td>Allison, Mrs. Hudson J C (Bessie Waldo Daniels)</td>\n",
       "      <td>female</td>\n",
       "      <td>25.00</td>\n",
       "      <td>1</td>\n",
       "      <td>2</td>\n",
       "      <td>113781</td>\n",
       "      <td>151.5500</td>\n",
       "      <td>C22 C26</td>\n",
       "      <td>S</td>\n",
       "      <td>NaN</td>\n",
       "      <td>NaN</td>\n",
       "      <td>Montreal, PQ / Chesterville, ON</td>\n",
       "    </tr>\n",
       "  </tbody>\n",
       "</table>\n",
       "</div>"
      ],
      "text/plain": [
       "   pclass  survived                                             name     sex  \\\n",
       "0       1         1                    Allen, Miss. Elisabeth Walton  female   \n",
       "1       1         1                   Allison, Master. Hudson Trevor    male   \n",
       "2       1         0                     Allison, Miss. Helen Loraine  female   \n",
       "3       1         0             Allison, Mr. Hudson Joshua Creighton    male   \n",
       "4       1         0  Allison, Mrs. Hudson J C (Bessie Waldo Daniels)  female   \n",
       "\n",
       "     age  sibsp  parch  ticket      fare    cabin embarked boat   body  \\\n",
       "0  29.00      0      0   24160  211.3375       B5        S    2    NaN   \n",
       "1   0.92      1      2  113781  151.5500  C22 C26        S   11    NaN   \n",
       "2   2.00      1      2  113781  151.5500  C22 C26        S  NaN    NaN   \n",
       "3  30.00      1      2  113781  151.5500  C22 C26        S  NaN  135.0   \n",
       "4  25.00      1      2  113781  151.5500  C22 C26        S  NaN    NaN   \n",
       "\n",
       "                         home.dest  \n",
       "0                     St Louis, MO  \n",
       "1  Montreal, PQ / Chesterville, ON  \n",
       "2  Montreal, PQ / Chesterville, ON  \n",
       "3  Montreal, PQ / Chesterville, ON  \n",
       "4  Montreal, PQ / Chesterville, ON  "
      ]
     },
     "execution_count": 102,
     "metadata": {},
     "output_type": "execute_result"
    }
   ],
   "source": [
    "df.head()"
   ]
  },
  {
   "cell_type": "code",
   "execution_count": 103,
   "metadata": {},
   "outputs": [
    {
     "name": "stdout",
     "output_type": "stream",
     "text": [
      "<class 'pandas.core.frame.DataFrame'>\n",
      "RangeIndex: 1309 entries, 0 to 1308\n",
      "Data columns (total 14 columns):\n",
      " #   Column     Non-Null Count  Dtype  \n",
      "---  ------     --------------  -----  \n",
      " 0   pclass     1309 non-null   int64  \n",
      " 1   survived   1309 non-null   int64  \n",
      " 2   name       1309 non-null   object \n",
      " 3   sex        1309 non-null   object \n",
      " 4   age        1046 non-null   float64\n",
      " 5   sibsp      1309 non-null   int64  \n",
      " 6   parch      1309 non-null   int64  \n",
      " 7   ticket     1309 non-null   object \n",
      " 8   fare       1308 non-null   float64\n",
      " 9   cabin      295 non-null    object \n",
      " 10  embarked   1307 non-null   object \n",
      " 11  boat       486 non-null    object \n",
      " 12  body       121 non-null    float64\n",
      " 13  home.dest  745 non-null    object \n",
      "dtypes: float64(3), int64(4), object(7)\n",
      "memory usage: 143.3+ KB\n"
     ]
    }
   ],
   "source": [
    "df.info()"
   ]
  },
  {
   "cell_type": "code",
   "execution_count": 104,
   "metadata": {},
   "outputs": [
    {
     "data": {
      "text/html": [
       "<div>\n",
       "<style scoped>\n",
       "    .dataframe tbody tr th:only-of-type {\n",
       "        vertical-align: middle;\n",
       "    }\n",
       "\n",
       "    .dataframe tbody tr th {\n",
       "        vertical-align: top;\n",
       "    }\n",
       "\n",
       "    .dataframe thead th {\n",
       "        text-align: right;\n",
       "    }\n",
       "</style>\n",
       "<table border=\"1\" class=\"dataframe\">\n",
       "  <thead>\n",
       "    <tr style=\"text-align: right;\">\n",
       "      <th></th>\n",
       "      <th>pclass</th>\n",
       "      <th>survived</th>\n",
       "      <th>age</th>\n",
       "      <th>sibsp</th>\n",
       "      <th>parch</th>\n",
       "      <th>fare</th>\n",
       "      <th>body</th>\n",
       "    </tr>\n",
       "  </thead>\n",
       "  <tbody>\n",
       "    <tr>\n",
       "      <th>count</th>\n",
       "      <td>1309.000000</td>\n",
       "      <td>1309.000000</td>\n",
       "      <td>1046.000000</td>\n",
       "      <td>1309.000000</td>\n",
       "      <td>1309.000000</td>\n",
       "      <td>1308.000000</td>\n",
       "      <td>121.000000</td>\n",
       "    </tr>\n",
       "    <tr>\n",
       "      <th>mean</th>\n",
       "      <td>2.294882</td>\n",
       "      <td>0.381971</td>\n",
       "      <td>29.881138</td>\n",
       "      <td>0.498854</td>\n",
       "      <td>0.385027</td>\n",
       "      <td>33.295479</td>\n",
       "      <td>160.809917</td>\n",
       "    </tr>\n",
       "    <tr>\n",
       "      <th>std</th>\n",
       "      <td>0.837836</td>\n",
       "      <td>0.486055</td>\n",
       "      <td>14.413493</td>\n",
       "      <td>1.041658</td>\n",
       "      <td>0.865560</td>\n",
       "      <td>51.758668</td>\n",
       "      <td>97.696922</td>\n",
       "    </tr>\n",
       "    <tr>\n",
       "      <th>min</th>\n",
       "      <td>1.000000</td>\n",
       "      <td>0.000000</td>\n",
       "      <td>0.170000</td>\n",
       "      <td>0.000000</td>\n",
       "      <td>0.000000</td>\n",
       "      <td>0.000000</td>\n",
       "      <td>1.000000</td>\n",
       "    </tr>\n",
       "    <tr>\n",
       "      <th>25%</th>\n",
       "      <td>2.000000</td>\n",
       "      <td>0.000000</td>\n",
       "      <td>21.000000</td>\n",
       "      <td>0.000000</td>\n",
       "      <td>0.000000</td>\n",
       "      <td>7.895800</td>\n",
       "      <td>72.000000</td>\n",
       "    </tr>\n",
       "    <tr>\n",
       "      <th>50%</th>\n",
       "      <td>3.000000</td>\n",
       "      <td>0.000000</td>\n",
       "      <td>28.000000</td>\n",
       "      <td>0.000000</td>\n",
       "      <td>0.000000</td>\n",
       "      <td>14.454200</td>\n",
       "      <td>155.000000</td>\n",
       "    </tr>\n",
       "    <tr>\n",
       "      <th>75%</th>\n",
       "      <td>3.000000</td>\n",
       "      <td>1.000000</td>\n",
       "      <td>39.000000</td>\n",
       "      <td>1.000000</td>\n",
       "      <td>0.000000</td>\n",
       "      <td>31.275000</td>\n",
       "      <td>256.000000</td>\n",
       "    </tr>\n",
       "    <tr>\n",
       "      <th>max</th>\n",
       "      <td>3.000000</td>\n",
       "      <td>1.000000</td>\n",
       "      <td>80.000000</td>\n",
       "      <td>8.000000</td>\n",
       "      <td>9.000000</td>\n",
       "      <td>512.329200</td>\n",
       "      <td>328.000000</td>\n",
       "    </tr>\n",
       "  </tbody>\n",
       "</table>\n",
       "</div>"
      ],
      "text/plain": [
       "            pclass     survived          age        sibsp        parch  \\\n",
       "count  1309.000000  1309.000000  1046.000000  1309.000000  1309.000000   \n",
       "mean      2.294882     0.381971    29.881138     0.498854     0.385027   \n",
       "std       0.837836     0.486055    14.413493     1.041658     0.865560   \n",
       "min       1.000000     0.000000     0.170000     0.000000     0.000000   \n",
       "25%       2.000000     0.000000    21.000000     0.000000     0.000000   \n",
       "50%       3.000000     0.000000    28.000000     0.000000     0.000000   \n",
       "75%       3.000000     1.000000    39.000000     1.000000     0.000000   \n",
       "max       3.000000     1.000000    80.000000     8.000000     9.000000   \n",
       "\n",
       "              fare        body  \n",
       "count  1308.000000  121.000000  \n",
       "mean     33.295479  160.809917  \n",
       "std      51.758668   97.696922  \n",
       "min       0.000000    1.000000  \n",
       "25%       7.895800   72.000000  \n",
       "50%      14.454200  155.000000  \n",
       "75%      31.275000  256.000000  \n",
       "max     512.329200  328.000000  "
      ]
     },
     "execution_count": 104,
     "metadata": {},
     "output_type": "execute_result"
    }
   ],
   "source": [
    "df.describe()"
   ]
  },
  {
   "cell_type": "markdown",
   "metadata": {},
   "source": [
    "## Exploratory Data Analysis"
   ]
  },
  {
   "cell_type": "markdown",
   "metadata": {},
   "source": [
    "### Let's begin the exploratory data analysis with finding the missing data"
   ]
  },
  {
   "cell_type": "code",
   "execution_count": 105,
   "metadata": {},
   "outputs": [
    {
     "data": {
      "text/plain": [
       "<AxesSubplot:>"
      ]
     },
     "execution_count": 105,
     "metadata": {},
     "output_type": "execute_result"
    },
    {
     "data": {
      "image/png": "[encoded data removed]",
      "text/plain": [
       "<Figure size 432x288 with 1 Axes>"
      ]
     },
     "metadata": {
      "needs_background": "light"
     },
     "output_type": "display_data"
    }
   ],
   "source": [
    "sns.heatmap(df.isnull(),yticklabels=False,cbar=False,cmap='viridis')"
   ]
  },
  {
   "cell_type": "code",
   "execution_count": 106,
   "metadata": {},
   "outputs": [
    {
     "data": {
      "text/plain": [
       "<AxesSubplot:xlabel='survived', ylabel='count'>"
      ]
     },
     "execution_count": 106,
     "metadata": {},
     "output_type": "execute_result"
    },
    {
     "data": {
      "image/png": "[encoded data removed]",
      "text/plain": [
       "<Figure size 432x288 with 1 Axes>"
      ]
     },
     "metadata": {},
     "output_type": "display_data"
    }
   ],
   "source": [
    "sns.set_style('whitegrid')\n",
    "sns.countplot(x='survived',data=df,palette='RdBu_r')"
   ]
  },
  {
   "cell_type": "code",
   "execution_count": 107,
   "metadata": {},
   "outputs": [
    {
     "data": {
      "text/plain": [
       "<AxesSubplot:xlabel='survived', ylabel='count'>"
      ]
     },
     "execution_count": 107,
     "metadata": {},
     "output_type": "execute_result"
    },
    {
     "data": {
      "image/png": "[encoded data removed]",
      "text/plain": [
       "<Figure size 432x288 with 1 Axes>"
      ]
     },
     "metadata": {},
     "output_type": "display_data"
    }
   ],
   "source": [
    "sns.set_style('whitegrid')\n",
    "sns.countplot(x='survived',hue='sex',data=df,palette='RdBu_r')"
   ]
  },
  {
   "cell_type": "code",
   "execution_count": 108,
   "metadata": {},
   "outputs": [
    {
     "name": "stderr",
     "output_type": "stream",
     "text": [
      "/media/rahul/NewVolume/HardDriveFiles/Anaconda/lib/python3.8/site-packages/seaborn/distributions.py:2557: FutureWarning:\n",
      "\n",
      "`distplot` is a deprecated function and will be removed in a future version. Please adapt your code to use either `displot` (a figure-level function with similar flexibility) or `histplot` (an axes-level function for histograms).\n",
      "\n"
     ]
    },
    {
     "data": {
      "text/plain": [
       "<AxesSubplot:xlabel='age'>"
      ]
     },
     "execution_count": 108,
     "metadata": {},
     "output_type": "execute_result"
    },
    {
     "data": {
      "image/png": "[encoded data removed]",
      "text/plain": [
       "<Figure size 432x288 with 1 Axes>"
      ]
     },
     "metadata": {},
     "output_type": "display_data"
    }
   ],
   "source": [
    "sns.distplot(df['age'].dropna(),kde=False,color='darkred',bins=30)"
   ]
  },
  {
   "cell_type": "code",
   "execution_count": 109,
   "metadata": {},
   "outputs": [
    {
     "data": {
      "text/plain": [
       "<AxesSubplot:>"
      ]
     },
     "execution_count": 109,
     "metadata": {},
     "output_type": "execute_result"
    },
    {
     "data": {
      "image/png": "[encoded data removed]",
      "text/plain": [
       "<Figure size 432x288 with 1 Axes>"
      ]
     },
     "metadata": {},
     "output_type": "display_data"
    }
   ],
   "source": [
    "df['age'].hist(bins=30,color='darkred',alpha=0.7)"
   ]
  },
  {
   "cell_type": "code",
   "execution_count": 110,
   "metadata": {},
   "outputs": [
    {
     "data": {
      "text/plain": [
       "<AxesSubplot:xlabel='sibsp', ylabel='count'>"
      ]
     },
     "execution_count": 110,
     "metadata": {},
     "output_type": "execute_result"
    },
    {
     "data": {
      "image/png": "[encoded data removed]",
      "text/plain": [
       "<Figure size 432x288 with 1 Axes>"
      ]
     },
     "metadata": {},
     "output_type": "display_data"
    }
   ],
   "source": [
    "sns.countplot(x='sibsp',data=df)"
   ]
  },
  {
   "cell_type": "code",
   "execution_count": 111,
   "metadata": {},
   "outputs": [
    {
     "data": {
      "text/plain": [
       "<AxesSubplot:>"
      ]
     },
     "execution_count": 111,
     "metadata": {},
     "output_type": "execute_result"
    },
    {
     "data": {
      "image/png": "[encoded data removed]",
      "text/plain": [
       "<Figure size 576x360 with 1 Axes>"
      ]
     },
     "metadata": {},
     "output_type": "display_data"
    }
   ],
   "source": [
    "df['fare'].hist(color='green',bins=40,figsize=(8,5))"
   ]
  },
  {
   "cell_type": "markdown",
   "metadata": {},
   "source": [
    "## Cufflinks for plots"
   ]
  },
  {
   "cell_type": "code",
   "execution_count": 112,
   "metadata": {},
   "outputs": [
    {
     "data": {
      "text/html": [
       "        <script type=\"text/javascript\">\n",
       "        window.PlotlyConfig = {MathJaxConfig: 'local'};\n",
       "        if (window.MathJax) {MathJax.Hub.Config({SVG: {font: \"STIX-Web\"}});}\n",
       "        if (typeof require !== 'undefined') {\n",
       "        require.undef(\"plotly\");\n",
       "        requirejs.config({\n",
       "            paths: {\n",
       "                'plotly': ['https://cdn.plot.ly/plotly-latest.min']\n",
       "            }\n",
       "        });\n",
       "        require(['plotly'], function(Plotly) {\n",
       "            window._Plotly = Plotly;\n",
       "        });\n",
       "        }\n",
       "        </script>\n",
       "        "
      ]
     },
     "metadata": {},
     "output_type": "display_data"
    }
   ],
   "source": [
    "import cufflinks as cf\n",
    "cf.go_offline()"
   ]
  },
  {
   "cell_type": "code",
   "execution_count": 113,
   "metadata": {},
   "outputs": [
    {
     "data": {
      "application/vnd.plotly.v1+json": {
       "config": {
        "linkText": "Export to plot.ly",
        "plotlyServerURL": "https://plot.ly",
        "showLink": true
       },
       "data": [
        {
         "histfunc": "count",
         "histnorm": "",
         "marker": {
          "color": "rgba(219, 64, 82, 1.0)",
          "line": {
           "color": "#4D5663",
           "width": 1.3
          }
         },
         "name": "fare",
         "nbinsx": 30,
         "opacity": 0.8,
         "orientation": "v",
         "type": "histogram",
         "x": [
          211.3375,
          151.55,
          151.55,
          151.55,
          151.55,
          26.55,
          77.9583,
          0,
          51.4792,
          49.5042,
          227.525,
          227.525,
          69.3,
          78.85,
          30,
          25.925,
          247.5208,
          247.5208,
          76.2917,
          75.2417,
          52.5542,
          52.5542,
          30,
          227.525,
          221.7792,
          26,
          91.0792,
          91.0792,
          135.6333,
          26.55,
          35.5,
          31,
          164.8667,
          26.55,
          26.55,
          262.375,
          55,
          26.55,
          30.5,
          50.4958,
          39.6,
          27.7208,
          51.4792,
          76.2917,
          134.5,
          26.55,
          31,
          26.2875,
          27.4458,
          512.3292,
          512.3292,
          5,
          47.1,
          47.1,
          120,
          120,
          120,
          120,
          26,
          27.7208,
          78.85,
          78.85,
          61.175,
          61.175,
          53.1,
          53.1,
          262.375,
          86.5,
          29.7,
          55,
          0,
          136.7792,
          136.7792,
          151.55,
          52,
          25.5875,
          83.1583,
          83.1583,
          83.1583,
          25.7,
          26.55,
          71,
          71,
          26.55,
          71.2833,
          71.2833,
          26.55,
          30.5,
          151.55,
          52,
          52,
          57,
          57,
          81.8583,
          81.8583,
          81.8583,
          106.425,
          247.5208,
          106.425,
          39.6,
          56.9292,
          29.7,
          83.1583,
          227.525,
          78.2667,
          31.6792,
          221.7792,
          31.6833,
          110.8833,
          26.3875,
          27.75,
          263,
          263,
          263,
          263,
          263,
          263,
          56.9292,
          26.55,
          133.65,
          27.7208,
          133.65,
          49.5,
          79.2,
          79.2,
          0,
          53.1,
          53.1,
          38.5,
          211.5,
          59.4,
          59.4,
          79.2,
          89.1042,
          89.1042,
          34.6542,
          28.5,
          30,
          153.4625,
          153.4625,
          63.3583,
          63.3583,
          79.2,
          55.4417,
          55.4417,
          76.7292,
          76.7292,
          42.4,
          83.475,
          83.475,
          0,
          76.7292,
          30,
          83.1583,
          93.5,
          93.5,
          42.5,
          51.8625,
          50,
          57.9792,
          57.9792,
          77.9583,
          52,
          52,
          26.55,
          90,
          30.6958,
          90,
          80,
          28.7125,
          0,
          26,
          26,
          211.5,
          29.7,
          51.8625,
          51.8625,
          52.5542,
          52.5542,
          26.55,
          211.3375,
          25.9292,
          106.425,
          512.3292,
          27.7208,
          26.55,
          27.7208,
          39.4,
          39.4,
          30,
          77.9583,
          45.5,
          146.5208,
          211.3375,
          26,
          86.5,
          29.7,
          53.1,
          53.1,
          49.5042,
          75.2417,
          51.8625,
          26.2875,
          82.1708,
          82.1708,
          26.55,
          90,
          90,
          90,
          57.75,
          30.5,
          42.4,
          29.7,
          113.275,
          113.275,
          113.275,
          26.2833,
          26,
          108.9,
          25.7417,
          61.9792,
          61.9792,
          27.7208,
          0,
          28.5,
          93.5,
          66.6,
          66.6,
          108.9,
          108.9,
          93.5,
          30.5,
          52,
          83.1583,
          0,
          39.6,
          135.6333,
          227.525,
          211.3375,
          50.4958,
          26.55,
          50,
          27.7208,
          79.2,
          40.125,
          86.5,
          59.4,
          59.4,
          26.55,
          262.375,
          262.375,
          262.375,
          262.375,
          262.375,
          30.5,
          69.3,
          26,
          57.75,
          31,
          26.55,
          153.4625,
          26.2875,
          55.9,
          55.9,
          35.5,
          35.5,
          26.55,
          30.6958,
          60,
          26,
          60,
          82.2667,
          82.2667,
          134.5,
          134.5,
          134.5,
          146.5208,
          146.5208,
          30.5,
          26.55,
          55.4417,
          55.4417,
          78.2667,
          27.7208,
          80,
          221.7792,
          221.7792,
          32.3208,
          25.9292,
          79.65,
          79.65,
          79.65,
          52,
          52,
          110.8833,
          110.8833,
          110.8833,
          79.2,
          28.5375,
          27.7208,
          33.5,
          34.0208,
          512.3292,
          75.25,
          75.25,
          26.55,
          77.2875,
          77.2875,
          135.6333,
          164.8667,
          164.8667,
          164.8667,
          211.5,
          211.5,
          211.5,
          26.55,
          61.3792,
          61.3792,
          35,
          134.5,
          35.5,
          26.55,
          135.6333,
          24,
          24,
          13,
          11.5,
          10.5,
          26,
          26,
          13,
          11.5,
          10.5,
          13,
          10.5,
          12.525,
          26,
          26,
          26,
          39,
          39,
          39,
          39,
          13,
          13,
          13,
          13,
          13,
          13,
          13,
          39,
          39,
          39,
          26,
          26,
          13,
          13,
          13,
          13,
          29,
          29,
          29,
          21,
          0,
          13,
          26,
          26,
          13.5,
          26,
          26,
          30,
          30,
          26,
          26,
          10.5,
          13,
          10.5,
          26.25,
          26.25,
          26.25,
          10.5,
          13,
          21,
          11.5,
          0,
          36.75,
          73.5,
          36.75,
          13,
          13,
          73.5,
          27.7208,
          27.7208,
          31.5,
          73.5,
          23,
          23,
          26,
          32.5,
          32.5,
          32.5,
          13.8583,
          13.8583,
          13,
          13,
          13,
          26,
          26,
          10.5,
          13,
          0,
          13,
          26,
          21,
          21,
          13,
          26,
          10.5,
          10.5,
          11.5,
          11.5,
          13.5,
          13,
          13,
          13,
          13,
          13,
          14.5,
          14.5,
          13,
          33,
          33,
          10.5,
          10.5,
          26.25,
          26.25,
          26.25,
          65,
          65,
          65,
          65,
          16,
          73.5,
          73.5,
          73.5,
          13,
          23,
          11.5,
          13,
          23,
          13,
          26,
          26,
          73.5,
          13,
          26,
          26,
          12.275,
          10.5,
          27,
          27,
          15,
          31.5,
          31.5,
          10.5,
          13.7917,
          26,
          26,
          21,
          12.35,
          12.35,
          13.5,
          12.35,
          0,
          10.5,
          26,
          26,
          10.7083,
          41.5792,
          41.5792,
          41.5792,
          41.5792,
          12,
          33,
          10.5,
          12.875,
          10.5,
          12.35,
          26,
          26,
          10.5,
          15.0458,
          37.0042,
          37.0042,
          37.0042,
          15.5792,
          13,
          16,
          13.5,
          13,
          26,
          19.5,
          19.5,
          10.5,
          13,
          13,
          10.5,
          13,
          14,
          26,
          10.5,
          9.6875,
          30.0708,
          30.0708,
          26,
          26,
          26,
          13,
          36.75,
          13.5,
          13.8625,
          10.5,
          13,
          10.5,
          13.8625,
          10.5,
          13.8583,
          10.5,
          0,
          26,
          10.5,
          15.05,
          13,
          21,
          26,
          21,
          13,
          13,
          12.7375,
          15.0333,
          26,
          26,
          26,
          10.5,
          21,
          21,
          13,
          15.0458,
          18.75,
          18.75,
          18.75,
          10.5,
          10.5,
          10.5,
          13,
          13,
          26,
          26,
          13,
          36.75,
          13,
          13.5,
          12.35,
          10.5,
          13,
          13,
          15.0458,
          10.5,
          13,
          65,
          10.5,
          13,
          12.65,
          10.5,
          21,
          21,
          13,
          21,
          21,
          10.5,
          21,
          0,
          15.75,
          15.75,
          13,
          26,
          26,
          23,
          23,
          23,
          27.75,
          27.75,
          27.75,
          27.75,
          10.5,
          12.875,
          13,
          13,
          13.5,
          13,
          7.55,
          20.25,
          20.25,
          20.25,
          7.65,
          7.65,
          7.925,
          7.2292,
          7.25,
          8.05,
          9.475,
          9.35,
          9.35,
          18.7875,
          7.8875,
          7.925,
          7.05,
          7.05,
          8.05,
          8.3,
          22.525,
          7.8542,
          31.275,
          31.275,
          31.275,
          7.925,
          7.775,
          31.275,
          31.275,
          31.275,
          7.7958,
          7.775,
          31.275,
          7.8542,
          7.8958,
          17.8,
          17.8,
          7.775,
          7.05,
          31.3875,
          31.3875,
          31.3875,
          31.3875,
          31.3875,
          31.3875,
          7.7958,
          31.3875,
          7.225,
          7.225,
          7.05,
          14.4583,
          7.225,
          7.8542,
          7.2292,
          7.225,
          15.85,
          15.85,
          19.2583,
          19.2583,
          19.2583,
          19.2583,
          8.05,
          7.225,
          7.8958,
          7.2292,
          14.4542,
          14.4542,
          7.8792,
          8.05,
          8.05,
          7.775,
          9.35,
          7.2292,
          4.0125,
          56.4958,
          7.775,
          7.75,
          7.8958,
          15.2458,
          15.2458,
          7.225,
          15.2458,
          7.75,
          15.5,
          15.5,
          16.1,
          7.725,
          7.8542,
          7.0458,
          7.25,
          7.7958,
          8.05,
          7.2833,
          7.8208,
          6.75,
          7.8792,
          8.6625,
          8.6625,
          8.6625,
          8.6625,
          8.6625,
          8.6625,
          7.75,
          7.75,
          8.05,
          14.4583,
          14.4583,
          7.7958,
          7.8542,
          7.75,
          7.75,
          7.25,
          8.05,
          7.7333,
          56.4958,
          8.05,
          14.4542,
          14.4542,
          7.05,
          8.05,
          7.25,
          7.4958,
          7.4958,
          7.7333,
          7.75,
          7.75,
          7.6292,
          7.75,
          8.05,
          7.8958,
          7.8958,
          7.8958,
          8.05,
          15.9,
          15.9,
          15.9,
          7.25,
          8.1583,
          16.1,
          16.1,
          8.6625,
          7.225,
          8.05,
          10.5167,
          10.1708,
          6.95,
          7.75,
          14.4,
          14.4,
          14.4,
          7.8958,
          7.8958,
          24.15,
          8.05,
          24.15,
          8.05,
          16.1,
          16.1,
          17.4,
          17.4,
          9.5,
          9.5,
          20.575,
          20.575,
          20.575,
          20.575,
          7.8958,
          7.8958,
          7.8958,
          7.25,
          7.25,
          7.8792,
          7.8958,
          8.6625,
          7.8958,
          7.2292,
          7.75,
          8.05,
          12.475,
          7.75,
          8.05,
          7.8958,
          7.75,
          7.55,
          13.9,
          13.9,
          7.775,
          7.775,
          6.975,
          7.225,
          7.2292,
          7.2292,
          7.2292,
          7.25,
          12.475,
          7.225,
          15.1,
          7.75,
          7.05,
          7.7958,
          7.75,
          7.75,
          6.95,
          7.8792,
          7.75,
          56.4958,
          34.375,
          34.375,
          8.05,
          34.375,
          34.375,
          34.375,
          7.75,
          7.25,
          7.7417,
          14.5,
          7.8958,
          8.05,
          7.7333,
          7.75,
          20.525,
          20.525,
          7.85,
          20.525,
          7.05,
          46.9,
          46.9,
          46.9,
          46.9,
          46.9,
          46.9,
          46.9,
          46.9,
          8.05,
          8.3625,
          8.05,
          9.8458,
          7.925,
          7.925,
          7.775,
          8.85,
          7.7333,
          19.9667,
          19.9667,
          15.85,
          15.85,
          9.5,
          7.2292,
          14.1083,
          7.8542,
          7.8542,
          14.1083,
          7.55,
          7.25,
          6.8583,
          18.7875,
          7.75,
          6.975,
          56.4958,
          6.75,
          7.925,
          7.925,
          8.9625,
          7.8958,
          7.775,
          7.75,
          12.2875,
          12.2875,
          6.45,
          22.525,
          7.925,
          7.75,
          8.05,
          7.65,
          7.8875,
          7.2292,
          7.8958,
          7.925,
          7.925,
          7.8958,
          7.8958,
          7.7958,
          7.05,
          7.8542,
          7.8542,
          7.0542,
          7.75,
          8.1125,
          6.4958,
          7.775,
          7.7958,
          8.6542,
          7.775,
          7.8542,
          11.1333,
          11.1333,
          0,
          7.775,
          0,
          11.1333,
          23.45,
          23.45,
          23.45,
          23.45,
          7.8958,
          7.8542,
          7.8542,
          9.825,
          9.825,
          7.925,
          7.125,
          8.4333,
          7.8958,
          7.7958,
          7.8542,
          7.5208,
          13.4167,
          13.4167,
          7.2292,
          7.2292,
          7.75,
          7.25,
          7.75,
          7.75,
          7.8292,
          8.05,
          7.75,
          14.4542,
          14.4542,
          7.75,
          7.75,
          7.7375,
          8.6625,
          8.6625,
          22.025,
          22.025,
          22.025,
          12.1833,
          7.8542,
          12.1833,
          7.8958,
          7.2292,
          7.225,
          9.5875,
          7.8958,
          56.4958,
          56.4958,
          7.25,
          7.75,
          56.4958,
          9.4833,
          7.775,
          7.775,
          7.225,
          25.4667,
          25.4667,
          25.4667,
          25.4667,
          25.4667,
          7.925,
          6.4375,
          15.5,
          15.5,
          0,
          24.15,
          9.5,
          7.775,
          7.75,
          15.55,
          15.55,
          7.925,
          7.8792,
          56.4958,
          7.55,
          16.1,
          16.1,
          7.8792,
          7.25,
          8.6625,
          7.0542,
          7.8542,
          7.5792,
          7.8958,
          7.55,
          7.75,
          7.1417,
          7.125,
          7.8792,
          7.75,
          8.05,
          7.925,
          7.2292,
          7.75,
          7.7375,
          7.2292,
          7.8958,
          7.8958,
          7.225,
          7.8958,
          7.75,
          7.75,
          23.25,
          23.25,
          23.25,
          7.7875,
          15.5,
          7.8792,
          8.0292,
          7.75,
          7.75,
          16.1,
          16.1,
          7.75,
          8.05,
          8.05,
          8.05,
          7.75,
          7.775,
          8.05,
          7.8958,
          7.8958,
          7.8958,
          7.8958,
          7.8792,
          7.65,
          12.475,
          12.475,
          8.05,
          24.15,
          24.15,
          8.4583,
          8.05,
          7.75,
          7.775,
          15.2458,
          15.2458,
          15.2458,
          7.2292,
          8.05,
          7.7333,
          7.75,
          8.05,
          15.5,
          15.5,
          15.5,
          7.75,
          7.8958,
          7.225,
          15.7417,
          15.7417,
          15.7417,
          8.05,
          7.8958,
          7.2292,
          7.75,
          7.8958,
          11.2417,
          11.2417,
          7.925,
          8.05,
          7.775,
          7.8542,
          7.8542,
          7.125,
          7.925,
          7.8,
          7.2292,
          7.75,
          6.2375,
          15.5,
          7.8292,
          15.5,
          7.7333,
          7.75,
          7.75,
          9.225,
          7.75,
          7.75,
          7.8792,
          7.775,
          7.75,
          7.8292,
          3.1708,
          22.525,
          8.4042,
          7.3125,
          7.8542,
          7.8542,
          7.775,
          9.225,
          8.6625,
          8.6625,
          8.6625,
          9.2167,
          8.6833,
          7.6292,
          21.075,
          21.075,
          21.075,
          21.075,
          21.075,
          39.6875,
          39.6875,
          39.6875,
          39.6875,
          39.6875,
          39.6875,
          8.6625,
          14.5,
          8.7125,
          7.8958,
          13.775,
          13.775,
          13.775,
          7,
          7.775,
          8.05,
          7.925,
          7.925,
          7.25,
          7.775,
          22.3583,
          22.3583,
          22.3583,
          8.1375,
          8.05,
          7.8958,
          7.8958,
          7.8958,
          7.775,
          7.775,
          8.05,
          7.8958,
          8.6625,
          8.6625,
          7.8958,
          8.1125,
          7.2292,
          7.25,
          7.8958,
          8.05,
          29.125,
          29.125,
          29.125,
          29.125,
          29.125,
          29.125,
          39.6875,
          7.125,
          7.7208,
          14.5,
          14.5,
          14.5,
          14.5,
          8.05,
          7.775,
          20.2125,
          20.2125,
          20.2125,
          8.05,
          8.05,
          8.05,
          7.75,
          24.15,
          7.2292,
          7.225,
          7.225,
          7.7292,
          7.575,
          7.25,
          69.55,
          69.55,
          69.55,
          69.55,
          69.55,
          69.55,
          69.55,
          69.55,
          69.55,
          69.55,
          69.55,
          9.325,
          7.65,
          7.925,
          21.6792,
          21.6792,
          21.6792,
          16.7,
          16.7,
          16.7,
          9.5,
          8.05,
          8.05,
          7.725,
          7.8958,
          7.75,
          9.5,
          15.1,
          7.7792,
          8.05,
          8.05,
          7.2292,
          8.05,
          7.8958,
          7.925,
          7.4958,
          27.9,
          27.9,
          27.9,
          27.9,
          27.9,
          27.9,
          7.8958,
          8.05,
          8.6625,
          7.75,
          7.7333,
          7.65,
          8.05,
          8.05,
          8.05,
          7.8958,
          8.6625,
          7.55,
          8.05,
          null,
          7.8958,
          9.8375,
          7.925,
          8.6625,
          10.4625,
          10.4625,
          8.05,
          7.925,
          7.05,
          7.775,
          9.225,
          7.7958,
          7.7958,
          8.05,
          8.5167,
          6.4375,
          6.4375,
          7.225,
          8.5167,
          8.05,
          16.1,
          16.1,
          7.925,
          7.75,
          7.8958,
          8.05,
          8.05,
          7.2292,
          0,
          7.2292,
          15.2458,
          15.2458,
          15.2458,
          7.8958,
          9.8417,
          9.5875,
          14.5,
          14.5,
          14.5,
          24.15,
          24.15,
          24.15,
          9.5,
          9.5,
          9.5,
          9.5,
          9,
          18,
          18,
          18,
          18,
          7.225,
          7.8542,
          7.8542,
          7.8958,
          9,
          8.05,
          7.55,
          8.05,
          9.5,
          7.2292,
          7.75,
          6.4958,
          6.4958,
          7,
          8.7125,
          7.55,
          8.05,
          16.1,
          7.25,
          8.6625,
          7.25,
          9.5,
          14.4542,
          14.4542,
          7.225,
          7.225,
          14.4583,
          14.4542,
          14.4542,
          7.225,
          7.225,
          7.875
         ]
        }
       ],
       "layout": {
        "barmode": "overlay",
        "legend": {
         "bgcolor": "#F5F6F9",
         "font": {
          "color": "#4D5663"
         }
        },
        "paper_bgcolor": "#F5F6F9",
        "plot_bgcolor": "#F5F6F9",
        "template": {
         "data": {
          "bar": [
           {
            "error_x": {
             "color": "#2a3f5f"
            },
            "error_y": {
             "color": "#2a3f5f"
            },
            "marker": {
             "line": {
              "color": "#E5ECF6",
              "width": 0.5
             }
            },
            "type": "bar"
           }
          ],
          "barpolar": [
           {
            "marker": {
             "line": {
              "color": "#E5ECF6",
              "width": 0.5
             }
            },
            "type": "barpolar"
           }
          ],
          "carpet": [
           {
            "aaxis": {
             "endlinecolor": "#2a3f5f",
             "gridcolor": "white",
             "linecolor": "white",
             "minorgridcolor": "white",
             "startlinecolor": "#2a3f5f"
            },
            "baxis": {
             "endlinecolor": "#2a3f5f",
             "gridcolor": "white",
             "linecolor": "white",
             "minorgridcolor": "white",
             "startlinecolor": "#2a3f5f"
            },
            "type": "carpet"
           }
          ],
          "choropleth": [
           {
            "colorbar": {
             "outlinewidth": 0,
             "ticks": ""
            },
            "type": "choropleth"
           }
          ],
          "contour": [
           {
            "colorbar": {
             "outlinewidth": 0,
             "ticks": ""
            },
            "colorscale": [
             [
              0,
              "#0d0887"
             ],
             [
              0.1111111111111111,
              "#46039f"
             ],
             [
              0.2222222222222222,
              "#7201a8"
             ],
             [
              0.3333333333333333,
              "#9c179e"
             ],
             [
              0.4444444444444444,
              "#bd3786"
             ],
             [
              0.5555555555555556,
              "#d8576b"
             ],
             [
              0.6666666666666666,
              "#ed7953"
             ],
             [
              0.7777777777777778,
              "#fb9f3a"
             ],
             [
              0.8888888888888888,
              "#fdca26"
             ],
             [
              1,
              "#f0f921"
             ]
            ],
            "type": "contour"
           }
          ],
          "contourcarpet": [
           {
            "colorbar": {
             "outlinewidth": 0,
             "ticks": ""
            },
            "type": "contourcarpet"
           }
          ],
          "heatmap": [
           {
            "colorbar": {
             "outlinewidth": 0,
             "ticks": ""
            },
            "colorscale": [
             [
              0,
              "#0d0887"
             ],
             [
              0.1111111111111111,
              "#46039f"
             ],
             [
              0.2222222222222222,
              "#7201a8"
             ],
             [
              0.3333333333333333,
              "#9c179e"
             ],
             [
              0.4444444444444444,
              "#bd3786"
             ],
             [
              0.5555555555555556,
              "#d8576b"
             ],
             [
              0.6666666666666666,
              "#ed7953"
             ],
             [
              0.7777777777777778,
              "#fb9f3a"
             ],
             [
              0.8888888888888888,
              "#fdca26"
             ],
             [
              1,
              "#f0f921"
             ]
            ],
            "type": "heatmap"
           }
          ],
          "heatmapgl": [
           {
            "colorbar": {
             "outlinewidth": 0,
             "ticks": ""
            },
            "colorscale": [
             [
              0,
              "#0d0887"
             ],
             [
              0.1111111111111111,
              "#46039f"
             ],
             [
              0.2222222222222222,
              "#7201a8"
             ],
             [
              0.3333333333333333,
              "#9c179e"
             ],
             [
              0.4444444444444444,
              "#bd3786"
             ],
             [
              0.5555555555555556,
              "#d8576b"
             ],
             [
              0.6666666666666666,
              "#ed7953"
             ],
             [
              0.7777777777777778,
              "#fb9f3a"
             ],
             [
              0.8888888888888888,
              "#fdca26"
             ],
             [
              1,
              "#f0f921"
             ]
            ],
            "type": "heatmapgl"
           }
          ],
          "histogram": [
           {
            "marker": {
             "colorbar": {
              "outlinewidth": 0,
              "ticks": ""
             }
            },
            "type": "histogram"
           }
          ],
          "histogram2d": [
           {
            "colorbar": {
             "outlinewidth": 0,
             "ticks": ""
            },
            "colorscale": [
             [
              0,
              "#0d0887"
             ],
             [
              0.1111111111111111,
              "#46039f"
             ],
             [
              0.2222222222222222,
              "#7201a8"
             ],
             [
              0.3333333333333333,
              "#9c179e"
             ],
             [
              0.4444444444444444,
              "#bd3786"
             ],
             [
              0.5555555555555556,
              "#d8576b"
             ],
             [
              0.6666666666666666,
              "#ed7953"
             ],
             [
              0.7777777777777778,
              "#fb9f3a"
             ],
             [
              0.8888888888888888,
              "#fdca26"
             ],
             [
              1,
              "#f0f921"
             ]
            ],
            "type": "histogram2d"
           }
          ],
          "histogram2dcontour": [
           {
            "colorbar": {
             "outlinewidth": 0,
             "ticks": ""
            },
            "colorscale": [
             [
              0,
              "#0d0887"
             ],
             [
              0.1111111111111111,
              "#46039f"
             ],
             [
              0.2222222222222222,
              "#7201a8"
             ],
             [
              0.3333333333333333,
              "#9c179e"
             ],
             [
              0.4444444444444444,
              "#bd3786"
             ],
             [
              0.5555555555555556,
              "#d8576b"
             ],
             [
              0.6666666666666666,
              "#ed7953"
             ],
             [
              0.7777777777777778,
              "#fb9f3a"
             ],
             [
              0.8888888888888888,
              "#fdca26"
             ],
             [
              1,
              "#f0f921"
             ]
            ],
            "type": "histogram2dcontour"
           }
          ],
          "mesh3d": [
           {
            "colorbar": {
             "outlinewidth": 0,
             "ticks": ""
            },
            "type": "mesh3d"
           }
          ],
          "parcoords": [
           {
            "line": {
             "colorbar": {
              "outlinewidth": 0,
              "ticks": ""
             }
            },
            "type": "parcoords"
           }
          ],
          "pie": [
           {
            "automargin": true,
            "type": "pie"
           }
          ],
          "scatter": [
           {
            "marker": {
             "colorbar": {
              "outlinewidth": 0,
              "ticks": ""
             }
            },
            "type": "scatter"
           }
          ],
          "scatter3d": [
           {
            "line": {
             "colorbar": {
              "outlinewidth": 0,
              "ticks": ""
             }
            },
            "marker": {
             "colorbar": {
              "outlinewidth": 0,
              "ticks": ""
             }
            },
            "type": "scatter3d"
           }
          ],
          "scattercarpet": [
           {
            "marker": {
             "colorbar": {
              "outlinewidth": 0,
              "ticks": ""
             }
            },
            "type": "scattercarpet"
           }
          ],
          "scattergeo": [
           {
            "marker": {
             "colorbar": {
              "outlinewidth": 0,
              "ticks": ""
             }
            },
            "type": "scattergeo"
           }
          ],
          "scattergl": [
           {
            "marker": {
             "colorbar": {
              "outlinewidth": 0,
              "ticks": ""
             }
            },
            "type": "scattergl"
           }
          ],
          "scattermapbox": [
           {
            "marker": {
             "colorbar": {
              "outlinewidth": 0,
              "ticks": ""
             }
            },
            "type": "scattermapbox"
           }
          ],
          "scatterpolar": [
           {
            "marker": {
             "colorbar": {
              "outlinewidth": 0,
              "ticks": ""
             }
            },
            "type": "scatterpolar"
           }
          ],
          "scatterpolargl": [
           {
            "marker": {
             "colorbar": {
              "outlinewidth": 0,
              "ticks": ""
             }
            },
            "type": "scatterpolargl"
           }
          ],
          "scatterternary": [
           {
            "marker": {
             "colorbar": {
              "outlinewidth": 0,
              "ticks": ""
             }
            },
            "type": "scatterternary"
           }
          ],
          "surface": [
           {
            "colorbar": {
             "outlinewidth": 0,
             "ticks": ""
            },
            "colorscale": [
             [
              0,
              "#0d0887"
             ],
             [
              0.1111111111111111,
              "#46039f"
             ],
             [
              0.2222222222222222,
              "#7201a8"
             ],
             [
              0.3333333333333333,
              "#9c179e"
             ],
             [
              0.4444444444444444,
              "#bd3786"
             ],
             [
              0.5555555555555556,
              "#d8576b"
             ],
             [
              0.6666666666666666,
              "#ed7953"
             ],
             [
              0.7777777777777778,
              "#fb9f3a"
             ],
             [
              0.8888888888888888,
              "#fdca26"
             ],
             [
              1,
              "#f0f921"
             ]
            ],
            "type": "surface"
           }
          ],
          "table": [
           {
            "cells": {
             "fill": {
              "color": "#EBF0F8"
             },
             "line": {
              "color": "white"
             }
            },
            "header": {
             "fill": {
              "color": "#C8D4E3"
             },
             "line": {
              "color": "white"
             }
            },
            "type": "table"
           }
          ]
         },
         "layout": {
          "annotationdefaults": {
           "arrowcolor": "#2a3f5f",
           "arrowhead": 0,
           "arrowwidth": 1
          },
          "autotypenumbers": "strict",
          "coloraxis": {
           "colorbar": {
            "outlinewidth": 0,
            "ticks": ""
           }
          },
          "colorscale": {
           "diverging": [
            [
             0,
             "#8e0152"
            ],
            [
             0.1,
             "#c51b7d"
            ],
            [
             0.2,
             "#de77ae"
            ],
            [
             0.3,
             "#f1b6da"
            ],
            [
             0.4,
             "#fde0ef"
            ],
            [
             0.5,
             "#f7f7f7"
            ],
            [
             0.6,
             "#e6f5d0"
            ],
            [
             0.7,
             "#b8e186"
            ],
            [
             0.8,
             "#7fbc41"
            ],
            [
             0.9,
             "#4d9221"
            ],
            [
             1,
             "#276419"
            ]
           ],
           "sequential": [
            [
             0,
             "#0d0887"
            ],
            [
             0.1111111111111111,
             "#46039f"
            ],
            [
             0.2222222222222222,
             "#7201a8"
            ],
            [
             0.3333333333333333,
             "#9c179e"
            ],
            [
             0.4444444444444444,
             "#bd3786"
            ],
            [
             0.5555555555555556,
             "#d8576b"
            ],
            [
             0.6666666666666666,
             "#ed7953"
            ],
            [
             0.7777777777777778,
             "#fb9f3a"
            ],
            [
             0.8888888888888888,
             "#fdca26"
            ],
            [
             1,
             "#f0f921"
            ]
           ],
           "sequentialminus": [
            [
             0,
             "#0d0887"
            ],
            [
             0.1111111111111111,
             "#46039f"
            ],
            [
             0.2222222222222222,
             "#7201a8"
            ],
            [
             0.3333333333333333,
             "#9c179e"
            ],
            [
             0.4444444444444444,
             "#bd3786"
            ],
            [
             0.5555555555555556,
             "#d8576b"
            ],
            [
             0.6666666666666666,
             "#ed7953"
            ],
            [
             0.7777777777777778,
             "#fb9f3a"
            ],
            [
             0.8888888888888888,
             "#fdca26"
            ],
            [
             1,
             "#f0f921"
            ]
           ]
          },
          "colorway": [
           "#636efa",
           "#EF553B",
           "#00cc96",
           "#ab63fa",
           "#FFA15A",
           "#19d3f3",
           "#FF6692",
           "#B6E880",
           "#FF97FF",
           "#FECB52"
          ],
          "font": {
           "color": "#2a3f5f"
          },
          "geo": {
           "bgcolor": "white",
           "lakecolor": "white",
           "landcolor": "#E5ECF6",
           "showlakes": true,
           "showland": true,
           "subunitcolor": "white"
          },
          "hoverlabel": {
           "align": "left"
          },
          "hovermode": "closest",
          "mapbox": {
           "style": "light"
          },
          "paper_bgcolor": "white",
          "plot_bgcolor": "#E5ECF6",
          "polar": {
           "angularaxis": {
            "gridcolor": "white",
            "linecolor": "white",
            "ticks": ""
           },
           "bgcolor": "#E5ECF6",
           "radialaxis": {
            "gridcolor": "white",
            "linecolor": "white",
            "ticks": ""
           }
          },
          "scene": {
           "xaxis": {
            "backgroundcolor": "#E5ECF6",
            "gridcolor": "white",
            "gridwidth": 2,
            "linecolor": "white",
            "showbackground": true,
            "ticks": "",
            "zerolinecolor": "white"
           },
           "yaxis": {
            "backgroundcolor": "#E5ECF6",
            "gridcolor": "white",
            "gridwidth": 2,
            "linecolor": "white",
            "showbackground": true,
            "ticks": "",
            "zerolinecolor": "white"
           },
           "zaxis": {
            "backgroundcolor": "#E5ECF6",
            "gridcolor": "white",
            "gridwidth": 2,
            "linecolor": "white",
            "showbackground": true,
            "ticks": "",
            "zerolinecolor": "white"
           }
          },
          "shapedefaults": {
           "line": {
            "color": "#2a3f5f"
           }
          },
          "ternary": {
           "aaxis": {
            "gridcolor": "white",
            "linecolor": "white",
            "ticks": ""
           },
           "baxis": {
            "gridcolor": "white",
            "linecolor": "white",
            "ticks": ""
           },
           "bgcolor": "#E5ECF6",
           "caxis": {
            "gridcolor": "white",
            "linecolor": "white",
            "ticks": ""
           }
          },
          "title": {
           "x": 0.05
          },
          "xaxis": {
           "automargin": true,
           "gridcolor": "white",
           "linecolor": "white",
           "ticks": "",
           "title": {
            "standoff": 15
           },
           "zerolinecolor": "white",
           "zerolinewidth": 2
          },
          "yaxis": {
           "automargin": true,
           "gridcolor": "white",
           "linecolor": "white",
           "ticks": "",
           "title": {
            "standoff": 15
           },
           "zerolinecolor": "white",
           "zerolinewidth": 2
          }
         }
        },
        "title": {
         "font": {
          "color": "#4D5663"
         }
        },
        "xaxis": {
         "gridcolor": "#E1E5ED",
         "showgrid": true,
         "tickfont": {
          "color": "#4D5663"
         },
         "title": {
          "font": {
           "color": "#4D5663"
          },
          "text": ""
         },
         "zerolinecolor": "#E1E5ED"
        },
        "yaxis": {
         "gridcolor": "#E1E5ED",
         "showgrid": true,
         "tickfont": {
          "color": "#4D5663"
         },
         "title": {
          "font": {
           "color": "#4D5663"
          },
          "text": ""
         },
         "zerolinecolor": "#E1E5ED"
        }
       }
      },
      "text/html": [
       "<div>                            <div id=\"f71d722d-c45c-4370-94f0-9182f8de549b\" class=\"plotly-graph-div\" style=\"height:525px; width:100%;\"></div>            <script type=\"text/javascript\">                require([\"plotly\"], function(Plotly) {                    window.PLOTLYENV=window.PLOTLYENV || {};\n",
       "                    window.PLOTLYENV.BASE_URL='https://plot.ly';                                    if (document.getElementById(\"f71d722d-c45c-4370-94f0-9182f8de549b\")) {                    Plotly.newPlot(                        \"f71d722d-c45c-4370-94f0-9182f8de549b\",                        [{\"histfunc\": \"count\", \"histnorm\": \"\", \"marker\": {\"color\": \"rgba(219, 64, 82, 1.0)\", \"line\": {\"color\": \"#4D5663\", \"width\": 1.3}}, \"name\": \"fare\", \"nbinsx\": 30, \"opacity\": 0.8, \"orientation\": \"v\", \"type\": \"histogram\", \"x\": [211.3375, 151.55, 151.55, 151.55, 151.55, 26.55, 77.9583, 0.0, 51.4792, 49.5042, 227.525, 227.525, 69.3, 78.85, 30.0, 25.925, 247.5208, 247.5208, 76.2917, 75.2417, 52.5542, 52.5542, 30.0, 227.525, 221.7792, 26.0, 91.0792, 91.0792, 135.6333, 26.55, 35.5, 31.0, 164.8667, 26.55, 26.55, 262.375, 55.0, 26.55, 30.5, 50.4958, 39.6, 27.7208, 51.4792, 76.2917, 134.5, 26.55, 31.0, 26.2875, 27.4458, 512.3292, 512.3292, 5.0, 47.1, 47.1, 120.0, 120.0, 120.0, 120.0, 26.0, 27.7208, 78.85, 78.85, 61.175, 61.175, 53.1, 53.1, 262.375, 86.5, 29.7, 55.0, 0.0, 136.7792, 136.7792, 151.55, 52.0, 25.5875, 83.1583, 83.1583, 83.1583, 25.7, 26.55, 71.0, 71.0, 26.55, 71.2833, 71.2833, 26.55, 30.5, 151.55, 52.0, 52.0, 57.0, 57.0, 81.8583, 81.8583, 81.8583, 106.425, 247.5208, 106.425, 39.6, 56.9292, 29.7, 83.1583, 227.525, 78.2667, 31.6792, 221.7792, 31.6833, 110.8833, 26.3875, 27.75, 263.0, 263.0, 263.0, 263.0, 263.0, 263.0, 56.9292, 26.55, 133.65, 27.7208, 133.65, 49.5, 79.2, 79.2, 0.0, 53.1, 53.1, 38.5, 211.5, 59.4, 59.4, 79.2, 89.1042, 89.1042, 34.6542, 28.5, 30.0, 153.4625, 153.4625, 63.3583, 63.3583, 79.2, 55.4417, 55.4417, 76.7292, 76.7292, 42.4, 83.475, 83.475, 0.0, 76.7292, 30.0, 83.1583, 93.5, 93.5, 42.5, 51.8625, 50.0, 57.9792, 57.9792, 77.9583, 52.0, 52.0, 26.55, 90.0, 30.6958, 90.0, 80.0, 28.7125, 0.0, 26.0, 26.0, 211.5, 29.7, 51.8625, 51.8625, 52.5542, 52.5542, 26.55, 211.3375, 25.9292, 106.425, 512.3292, 27.7208, 26.55, 27.7208, 39.4, 39.4, 30.0, 77.9583, 45.5, 146.5208, 211.3375, 26.0, 86.5, 29.7, 53.1, 53.1, 49.5042, 75.2417, 51.8625, 26.2875, 82.1708, 82.1708, 26.55, 90.0, 90.0, 90.0, 57.75, 30.5, 42.4, 29.7, 113.275, 113.275, 113.275, 26.2833, 26.0, 108.9, 25.7417, 61.9792, 61.9792, 27.7208, 0.0, 28.5, 93.5, 66.6, 66.6, 108.9, 108.9, 93.5, 30.5, 52.0, 83.1583, 0.0, 39.6, 135.6333, 227.525, 211.3375, 50.4958, 26.55, 50.0, 27.7208, 79.2, 40.125, 86.5, 59.4, 59.4, 26.55, 262.375, 262.375, 262.375, 262.375, 262.375, 30.5, 69.3, 26.0, 57.75, 31.0, 26.55, 153.4625, 26.2875, 55.9, 55.9, 35.5, 35.5, 26.55, 30.6958, 60.0, 26.0, 60.0, 82.2667, 82.2667, 134.5, 134.5, 134.5, 146.5208, 146.5208, 30.5, 26.55, 55.4417, 55.4417, 78.2667, 27.7208, 80.0, 221.7792, 221.7792, 32.3208, 25.9292, 79.65, 79.65, 79.65, 52.0, 52.0, 110.8833, 110.8833, 110.8833, 79.2, 28.5375, 27.7208, 33.5, 34.0208, 512.3292, 75.25, 75.25, 26.55, 77.2875, 77.2875, 135.6333, 164.8667, 164.8667, 164.8667, 211.5, 211.5, 211.5, 26.55, 61.3792, 61.3792, 35.0, 134.5, 35.5, 26.55, 135.6333, 24.0, 24.0, 13.0, 11.5, 10.5, 26.0, 26.0, 13.0, 11.5, 10.5, 13.0, 10.5, 12.525, 26.0, 26.0, 26.0, 39.0, 39.0, 39.0, 39.0, 13.0, 13.0, 13.0, 13.0, 13.0, 13.0, 13.0, 39.0, 39.0, 39.0, 26.0, 26.0, 13.0, 13.0, 13.0, 13.0, 29.0, 29.0, 29.0, 21.0, 0.0, 13.0, 26.0, 26.0, 13.5, 26.0, 26.0, 30.0, 30.0, 26.0, 26.0, 10.5, 13.0, 10.5, 26.25, 26.25, 26.25, 10.5, 13.0, 21.0, 11.5, 0.0, 36.75, 73.5, 36.75, 13.0, 13.0, 73.5, 27.7208, 27.7208, 31.5, 73.5, 23.0, 23.0, 26.0, 32.5, 32.5, 32.5, 13.8583, 13.8583, 13.0, 13.0, 13.0, 26.0, 26.0, 10.5, 13.0, 0.0, 13.0, 26.0, 21.0, 21.0, 13.0, 26.0, 10.5, 10.5, 11.5, 11.5, 13.5, 13.0, 13.0, 13.0, 13.0, 13.0, 14.5, 14.5, 13.0, 33.0, 33.0, 10.5, 10.5, 26.25, 26.25, 26.25, 65.0, 65.0, 65.0, 65.0, 16.0, 73.5, 73.5, 73.5, 13.0, 23.0, 11.5, 13.0, 23.0, 13.0, 26.0, 26.0, 73.5, 13.0, 26.0, 26.0, 12.275, 10.5, 27.0, 27.0, 15.0, 31.5, 31.5, 10.5, 13.7917, 26.0, 26.0, 21.0, 12.35, 12.35, 13.5, 12.35, 0.0, 10.5, 26.0, 26.0, 10.7083, 41.5792, 41.5792, 41.5792, 41.5792, 12.0, 33.0, 10.5, 12.875, 10.5, 12.35, 26.0, 26.0, 10.5, 15.0458, 37.0042, 37.0042, 37.0042, 15.5792, 13.0, 16.0, 13.5, 13.0, 26.0, 19.5, 19.5, 10.5, 13.0, 13.0, 10.5, 13.0, 14.0, 26.0, 10.5, 9.6875, 30.0708, 30.0708, 26.0, 26.0, 26.0, 13.0, 36.75, 13.5, 13.8625, 10.5, 13.0, 10.5, 13.8625, 10.5, 13.8583, 10.5, 0.0, 26.0, 10.5, 15.05, 13.0, 21.0, 26.0, 21.0, 13.0, 13.0, 12.7375, 15.0333, 26.0, 26.0, 26.0, 10.5, 21.0, 21.0, 13.0, 15.0458, 18.75, 18.75, 18.75, 10.5, 10.5, 10.5, 13.0, 13.0, 26.0, 26.0, 13.0, 36.75, 13.0, 13.5, 12.35, 10.5, 13.0, 13.0, 15.0458, 10.5, 13.0, 65.0, 10.5, 13.0, 12.65, 10.5, 21.0, 21.0, 13.0, 21.0, 21.0, 10.5, 21.0, 0.0, 15.75, 15.75, 13.0, 26.0, 26.0, 23.0, 23.0, 23.0, 27.75, 27.75, 27.75, 27.75, 10.5, 12.875, 13.0, 13.0, 13.5, 13.0, 7.55, 20.25, 20.25, 20.25, 7.65, 7.65, 7.925, 7.2292, 7.25, 8.05, 9.475, 9.35, 9.35, 18.7875, 7.8875, 7.925, 7.05, 7.05, 8.05, 8.3, 22.525, 7.8542, 31.275, 31.275, 31.275, 7.925, 7.775, 31.275, 31.275, 31.275, 7.7958, 7.775, 31.275, 7.8542, 7.8958, 17.8, 17.8, 7.775, 7.05, 31.3875, 31.3875, 31.3875, 31.3875, 31.3875, 31.3875, 7.7958, 31.3875, 7.225, 7.225, 7.05, 14.4583, 7.225, 7.8542, 7.2292, 7.225, 15.85, 15.85, 19.2583, 19.2583, 19.2583, 19.2583, 8.05, 7.225, 7.8958, 7.2292, 14.4542, 14.4542, 7.8792, 8.05, 8.05, 7.775, 9.35, 7.2292, 4.0125, 56.4958, 7.775, 7.75, 7.8958, 15.2458, 15.2458, 7.225, 15.2458, 7.75, 15.5, 15.5, 16.1, 7.725, 7.8542, 7.0458, 7.25, 7.7958, 8.05, 7.2833, 7.8208, 6.75, 7.8792, 8.6625, 8.6625, 8.6625, 8.6625, 8.6625, 8.6625, 7.75, 7.75, 8.05, 14.4583, 14.4583, 7.7958, 7.8542, 7.75, 7.75, 7.25, 8.05, 7.7333, 56.4958, 8.05, 14.4542, 14.4542, 7.05, 8.05, 7.25, 7.4958, 7.4958, 7.7333, 7.75, 7.75, 7.6292, 7.75, 8.05, 7.8958, 7.8958, 7.8958, 8.05, 15.9, 15.9, 15.9, 7.25, 8.1583, 16.1, 16.1, 8.6625, 7.225, 8.05, 10.5167, 10.1708, 6.95, 7.75, 14.4, 14.4, 14.4, 7.8958, 7.8958, 24.15, 8.05, 24.15, 8.05, 16.1, 16.1, 17.4, 17.4, 9.5, 9.5, 20.575, 20.575, 20.575, 20.575, 7.8958, 7.8958, 7.8958, 7.25, 7.25, 7.8792, 7.8958, 8.6625, 7.8958, 7.2292, 7.75, 8.05, 12.475, 7.75, 8.05, 7.8958, 7.75, 7.55, 13.9, 13.9, 7.775, 7.775, 6.975, 7.225, 7.2292, 7.2292, 7.2292, 7.25, 12.475, 7.225, 15.1, 7.75, 7.05, 7.7958, 7.75, 7.75, 6.95, 7.8792, 7.75, 56.4958, 34.375, 34.375, 8.05, 34.375, 34.375, 34.375, 7.75, 7.25, 7.7417, 14.5, 7.8958, 8.05, 7.7333, 7.75, 20.525, 20.525, 7.85, 20.525, 7.05, 46.9, 46.9, 46.9, 46.9, 46.9, 46.9, 46.9, 46.9, 8.05, 8.3625, 8.05, 9.8458, 7.925, 7.925, 7.775, 8.85, 7.7333, 19.9667, 19.9667, 15.85, 15.85, 9.5, 7.2292, 14.1083, 7.8542, 7.8542, 14.1083, 7.55, 7.25, 6.8583, 18.7875, 7.75, 6.975, 56.4958, 6.75, 7.925, 7.925, 8.9625, 7.8958, 7.775, 7.75, 12.2875, 12.2875, 6.45, 22.525, 7.925, 7.75, 8.05, 7.65, 7.8875, 7.2292, 7.8958, 7.925, 7.925, 7.8958, 7.8958, 7.7958, 7.05, 7.8542, 7.8542, 7.0542, 7.75, 8.1125, 6.4958, 7.775, 7.7958, 8.6542, 7.775, 7.8542, 11.1333, 11.1333, 0.0, 7.775, 0.0, 11.1333, 23.45, 23.45, 23.45, 23.45, 7.8958, 7.8542, 7.8542, 9.825, 9.825, 7.925, 7.125, 8.4333, 7.8958, 7.7958, 7.8542, 7.5208, 13.4167, 13.4167, 7.2292, 7.2292, 7.75, 7.25, 7.75, 7.75, 7.8292, 8.05, 7.75, 14.4542, 14.4542, 7.75, 7.75, 7.7375, 8.6625, 8.6625, 22.025, 22.025, 22.025, 12.1833, 7.8542, 12.1833, 7.8958, 7.2292, 7.225, 9.5875, 7.8958, 56.4958, 56.4958, 7.25, 7.75, 56.4958, 9.4833, 7.775, 7.775, 7.225, 25.4667, 25.4667, 25.4667, 25.4667, 25.4667, 7.925, 6.4375, 15.5, 15.5, 0.0, 24.15, 9.5, 7.775, 7.75, 15.55, 15.55, 7.925, 7.8792, 56.4958, 7.55, 16.1, 16.1, 7.8792, 7.25, 8.6625, 7.0542, 7.8542, 7.5792, 7.8958, 7.55, 7.75, 7.1417, 7.125, 7.8792, 7.75, 8.05, 7.925, 7.2292, 7.75, 7.7375, 7.2292, 7.8958, 7.8958, 7.225, 7.8958, 7.75, 7.75, 23.25, 23.25, 23.25, 7.7875, 15.5, 7.8792, 8.0292, 7.75, 7.75, 16.1, 16.1, 7.75, 8.05, 8.05, 8.05, 7.75, 7.775, 8.05, 7.8958, 7.8958, 7.8958, 7.8958, 7.8792, 7.65, 12.475, 12.475, 8.05, 24.15, 24.15, 8.4583, 8.05, 7.75, 7.775, 15.2458, 15.2458, 15.2458, 7.2292, 8.05, 7.7333, 7.75, 8.05, 15.5, 15.5, 15.5, 7.75, 7.8958, 7.225, 15.7417, 15.7417, 15.7417, 8.05, 7.8958, 7.2292, 7.75, 7.8958, 11.2417, 11.2417, 7.925, 8.05, 7.775, 7.8542, 7.8542, 7.125, 7.925, 7.8, 7.2292, 7.75, 6.2375, 15.5, 7.8292, 15.5, 7.7333, 7.75, 7.75, 9.225, 7.75, 7.75, 7.8792, 7.775, 7.75, 7.8292, 3.1708, 22.525, 8.4042, 7.3125, 7.8542, 7.8542, 7.775, 9.225, 8.6625, 8.6625, 8.6625, 9.2167, 8.6833, 7.6292, 21.075, 21.075, 21.075, 21.075, 21.075, 39.6875, 39.6875, 39.6875, 39.6875, 39.6875, 39.6875, 8.6625, 14.5, 8.7125, 7.8958, 13.775, 13.775, 13.775, 7.0, 7.775, 8.05, 7.925, 7.925, 7.25, 7.775, 22.3583, 22.3583, 22.3583, 8.1375, 8.05, 7.8958, 7.8958, 7.8958, 7.775, 7.775, 8.05, 7.8958, 8.6625, 8.6625, 7.8958, 8.1125, 7.2292, 7.25, 7.8958, 8.05, 29.125, 29.125, 29.125, 29.125, 29.125, 29.125, 39.6875, 7.125, 7.7208, 14.5, 14.5, 14.5, 14.5, 8.05, 7.775, 20.2125, 20.2125, 20.2125, 8.05, 8.05, 8.05, 7.75, 24.15, 7.2292, 7.225, 7.225, 7.7292, 7.575, 7.25, 69.55, 69.55, 69.55, 69.55, 69.55, 69.55, 69.55, 69.55, 69.55, 69.55, 69.55, 9.325, 7.65, 7.925, 21.6792, 21.6792, 21.6792, 16.7, 16.7, 16.7, 9.5, 8.05, 8.05, 7.725, 7.8958, 7.75, 9.5, 15.1, 7.7792, 8.05, 8.05, 7.2292, 8.05, 7.8958, 7.925, 7.4958, 27.9, 27.9, 27.9, 27.9, 27.9, 27.9, 7.8958, 8.05, 8.6625, 7.75, 7.7333, 7.65, 8.05, 8.05, 8.05, 7.8958, 8.6625, 7.55, 8.05, null, 7.8958, 9.8375, 7.925, 8.6625, 10.4625, 10.4625, 8.05, 7.925, 7.05, 7.775, 9.225, 7.7958, 7.7958, 8.05, 8.5167, 6.4375, 6.4375, 7.225, 8.5167, 8.05, 16.1, 16.1, 7.925, 7.75, 7.8958, 8.05, 8.05, 7.2292, 0.0, 7.2292, 15.2458, 15.2458, 15.2458, 7.8958, 9.8417, 9.5875, 14.5, 14.5, 14.5, 24.15, 24.15, 24.15, 9.5, 9.5, 9.5, 9.5, 9.0, 18.0, 18.0, 18.0, 18.0, 7.225, 7.8542, 7.8542, 7.8958, 9.0, 8.05, 7.55, 8.05, 9.5, 7.2292, 7.75, 6.4958, 6.4958, 7.0, 8.7125, 7.55, 8.05, 16.1, 7.25, 8.6625, 7.25, 9.5, 14.4542, 14.4542, 7.225, 7.225, 14.4583, 14.4542, 14.4542, 7.225, 7.225, 7.875]}],                        {\"barmode\": \"overlay\", \"legend\": {\"bgcolor\": \"#F5F6F9\", \"font\": {\"color\": \"#4D5663\"}}, \"paper_bgcolor\": \"#F5F6F9\", \"plot_bgcolor\": \"#F5F6F9\", \"template\": {\"data\": {\"bar\": [{\"error_x\": {\"color\": \"#2a3f5f\"}, \"error_y\": {\"color\": \"#2a3f5f\"}, \"marker\": {\"line\": {\"color\": \"#E5ECF6\", \"width\": 0.5}}, \"type\": \"bar\"}], \"barpolar\": [{\"marker\": {\"line\": {\"color\": \"#E5ECF6\", \"width\": 0.5}}, \"type\": \"barpolar\"}], \"carpet\": [{\"aaxis\": {\"endlinecolor\": \"#2a3f5f\", \"gridcolor\": \"white\", \"linecolor\": \"white\", \"minorgridcolor\": \"white\", \"startlinecolor\": \"#2a3f5f\"}, \"baxis\": {\"endlinecolor\": \"#2a3f5f\", \"gridcolor\": \"white\", \"linecolor\": \"white\", \"minorgridcolor\": \"white\", \"startlinecolor\": \"#2a3f5f\"}, \"type\": \"carpet\"}], \"choropleth\": [{\"colorbar\": {\"outlinewidth\": 0, \"ticks\": \"\"}, \"type\": \"choropleth\"}], \"contour\": [{\"colorbar\": {\"outlinewidth\": 0, \"ticks\": \"\"}, \"colorscale\": [[0.0, \"#0d0887\"], [0.1111111111111111, \"#46039f\"], [0.2222222222222222, \"#7201a8\"], [0.3333333333333333, \"#9c179e\"], [0.4444444444444444, \"#bd3786\"], [0.5555555555555556, \"#d8576b\"], [0.6666666666666666, \"#ed7953\"], [0.7777777777777778, \"#fb9f3a\"], [0.8888888888888888, \"#fdca26\"], [1.0, \"#f0f921\"]], \"type\": \"contour\"}], \"contourcarpet\": [{\"colorbar\": {\"outlinewidth\": 0, \"ticks\": \"\"}, \"type\": \"contourcarpet\"}], \"heatmap\": [{\"colorbar\": {\"outlinewidth\": 0, \"ticks\": \"\"}, \"colorscale\": [[0.0, \"#0d0887\"], [0.1111111111111111, \"#46039f\"], [0.2222222222222222, \"#7201a8\"], [0.3333333333333333, \"#9c179e\"], [0.4444444444444444, \"#bd3786\"], [0.5555555555555556, \"#d8576b\"], [0.6666666666666666, \"#ed7953\"], [0.7777777777777778, \"#fb9f3a\"], [0.8888888888888888, \"#fdca26\"], [1.0, \"#f0f921\"]], \"type\": \"heatmap\"}], \"heatmapgl\": [{\"colorbar\": {\"outlinewidth\": 0, \"ticks\": \"\"}, \"colorscale\": [[0.0, \"#0d0887\"], [0.1111111111111111, \"#46039f\"], [0.2222222222222222, \"#7201a8\"], [0.3333333333333333, \"#9c179e\"], [0.4444444444444444, \"#bd3786\"], [0.5555555555555556, \"#d8576b\"], [0.6666666666666666, \"#ed7953\"], [0.7777777777777778, \"#fb9f3a\"], [0.8888888888888888, \"#fdca26\"], [1.0, \"#f0f921\"]], \"type\": \"heatmapgl\"}], \"histogram\": [{\"marker\": {\"colorbar\": {\"outlinewidth\": 0, \"ticks\": \"\"}}, \"type\": \"histogram\"}], \"histogram2d\": [{\"colorbar\": {\"outlinewidth\": 0, \"ticks\": \"\"}, \"colorscale\": [[0.0, \"#0d0887\"], [0.1111111111111111, \"#46039f\"], [0.2222222222222222, \"#7201a8\"], [0.3333333333333333, \"#9c179e\"], [0.4444444444444444, \"#bd3786\"], [0.5555555555555556, \"#d8576b\"], [0.6666666666666666, \"#ed7953\"], [0.7777777777777778, \"#fb9f3a\"], [0.8888888888888888, \"#fdca26\"], [1.0, \"#f0f921\"]], \"type\": \"histogram2d\"}], \"histogram2dcontour\": [{\"colorbar\": {\"outlinewidth\": 0, \"ticks\": \"\"}, \"colorscale\": [[0.0, \"#0d0887\"], [0.1111111111111111, \"#46039f\"], [0.2222222222222222, \"#7201a8\"], [0.3333333333333333, \"#9c179e\"], [0.4444444444444444, \"#bd3786\"], [0.5555555555555556, \"#d8576b\"], [0.6666666666666666, \"#ed7953\"], [0.7777777777777778, \"#fb9f3a\"], [0.8888888888888888, \"#fdca26\"], [1.0, \"#f0f921\"]], \"type\": \"histogram2dcontour\"}], \"mesh3d\": [{\"colorbar\": {\"outlinewidth\": 0, \"ticks\": \"\"}, \"type\": \"mesh3d\"}], \"parcoords\": [{\"line\": {\"colorbar\": {\"outlinewidth\": 0, \"ticks\": \"\"}}, \"type\": \"parcoords\"}], \"pie\": [{\"automargin\": true, \"type\": \"pie\"}], \"scatter\": [{\"marker\": {\"colorbar\": {\"outlinewidth\": 0, \"ticks\": \"\"}}, \"type\": \"scatter\"}], \"scatter3d\": [{\"line\": {\"colorbar\": {\"outlinewidth\": 0, \"ticks\": \"\"}}, \"marker\": {\"colorbar\": {\"outlinewidth\": 0, \"ticks\": \"\"}}, \"type\": \"scatter3d\"}], \"scattercarpet\": [{\"marker\": {\"colorbar\": {\"outlinewidth\": 0, \"ticks\": \"\"}}, \"type\": \"scattercarpet\"}], \"scattergeo\": [{\"marker\": {\"colorbar\": {\"outlinewidth\": 0, \"ticks\": \"\"}}, \"type\": \"scattergeo\"}], \"scattergl\": [{\"marker\": {\"colorbar\": {\"outlinewidth\": 0, \"ticks\": \"\"}}, \"type\": \"scattergl\"}], \"scattermapbox\": [{\"marker\": {\"colorbar\": {\"outlinewidth\": 0, \"ticks\": \"\"}}, \"type\": \"scattermapbox\"}], \"scatterpolar\": [{\"marker\": {\"colorbar\": {\"outlinewidth\": 0, \"ticks\": \"\"}}, \"type\": \"scatterpolar\"}], \"scatterpolargl\": [{\"marker\": {\"colorbar\": {\"outlinewidth\": 0, \"ticks\": \"\"}}, \"type\": \"scatterpolargl\"}], \"scatterternary\": [{\"marker\": {\"colorbar\": {\"outlinewidth\": 0, \"ticks\": \"\"}}, \"type\": \"scatterternary\"}], \"surface\": [{\"colorbar\": {\"outlinewidth\": 0, \"ticks\": \"\"}, \"colorscale\": [[0.0, \"#0d0887\"], [0.1111111111111111, \"#46039f\"], [0.2222222222222222, \"#7201a8\"], [0.3333333333333333, \"#9c179e\"], [0.4444444444444444, \"#bd3786\"], [0.5555555555555556, \"#d8576b\"], [0.6666666666666666, \"#ed7953\"], [0.7777777777777778, \"#fb9f3a\"], [0.8888888888888888, \"#fdca26\"], [1.0, \"#f0f921\"]], \"type\": \"surface\"}], \"table\": [{\"cells\": {\"fill\": {\"color\": \"#EBF0F8\"}, \"line\": {\"color\": \"white\"}}, \"header\": {\"fill\": {\"color\": \"#C8D4E3\"}, \"line\": {\"color\": \"white\"}}, \"type\": \"table\"}]}, \"layout\": {\"annotationdefaults\": {\"arrowcolor\": \"#2a3f5f\", \"arrowhead\": 0, \"arrowwidth\": 1}, \"autotypenumbers\": \"strict\", \"coloraxis\": {\"colorbar\": {\"outlinewidth\": 0, \"ticks\": \"\"}}, \"colorscale\": {\"diverging\": [[0, \"#8e0152\"], [0.1, \"#c51b7d\"], [0.2, \"#de77ae\"], [0.3, \"#f1b6da\"], [0.4, \"#fde0ef\"], [0.5, \"#f7f7f7\"], [0.6, \"#e6f5d0\"], [0.7, \"#b8e186\"], [0.8, \"#7fbc41\"], [0.9, \"#4d9221\"], [1, \"#276419\"]], \"sequential\": [[0.0, \"#0d0887\"], [0.1111111111111111, \"#46039f\"], [0.2222222222222222, \"#7201a8\"], [0.3333333333333333, \"#9c179e\"], [0.4444444444444444, \"#bd3786\"], [0.5555555555555556, \"#d8576b\"], [0.6666666666666666, \"#ed7953\"], [0.7777777777777778, \"#fb9f3a\"], [0.8888888888888888, \"#fdca26\"], [1.0, \"#f0f921\"]], \"sequentialminus\": [[0.0, \"#0d0887\"], [0.1111111111111111, \"#46039f\"], [0.2222222222222222, \"#7201a8\"], [0.3333333333333333, \"#9c179e\"], [0.4444444444444444, \"#bd3786\"], [0.5555555555555556, \"#d8576b\"], [0.6666666666666666, \"#ed7953\"], [0.7777777777777778, \"#fb9f3a\"], [0.8888888888888888, \"#fdca26\"], [1.0, \"#f0f921\"]]}, \"colorway\": [\"#636efa\", \"#EF553B\", \"#00cc96\", \"#ab63fa\", \"#FFA15A\", \"#19d3f3\", \"#FF6692\", \"#B6E880\", \"#FF97FF\", \"#FECB52\"], \"font\": {\"color\": \"#2a3f5f\"}, \"geo\": {\"bgcolor\": \"white\", \"lakecolor\": \"white\", \"landcolor\": \"#E5ECF6\", \"showlakes\": true, \"showland\": true, \"subunitcolor\": \"white\"}, \"hoverlabel\": {\"align\": \"left\"}, \"hovermode\": \"closest\", \"mapbox\": {\"style\": \"light\"}, \"paper_bgcolor\": \"white\", \"plot_bgcolor\": \"#E5ECF6\", \"polar\": {\"angularaxis\": {\"gridcolor\": \"white\", \"linecolor\": \"white\", \"ticks\": \"\"}, \"bgcolor\": \"#E5ECF6\", \"radialaxis\": {\"gridcolor\": \"white\", \"linecolor\": \"white\", \"ticks\": \"\"}}, \"scene\": {\"xaxis\": {\"backgroundcolor\": \"#E5ECF6\", \"gridcolor\": \"white\", \"gridwidth\": 2, \"linecolor\": \"white\", \"showbackground\": true, \"ticks\": \"\", \"zerolinecolor\": \"white\"}, \"yaxis\": {\"backgroundcolor\": \"#E5ECF6\", \"gridcolor\": \"white\", \"gridwidth\": 2, \"linecolor\": \"white\", \"showbackground\": true, \"ticks\": \"\", \"zerolinecolor\": \"white\"}, \"zaxis\": {\"backgroundcolor\": \"#E5ECF6\", \"gridcolor\": \"white\", \"gridwidth\": 2, \"linecolor\": \"white\", \"showbackground\": true, \"ticks\": \"\", \"zerolinecolor\": \"white\"}}, \"shapedefaults\": {\"line\": {\"color\": \"#2a3f5f\"}}, \"ternary\": {\"aaxis\": {\"gridcolor\": \"white\", \"linecolor\": \"white\", \"ticks\": \"\"}, \"baxis\": {\"gridcolor\": \"white\", \"linecolor\": \"white\", \"ticks\": \"\"}, \"bgcolor\": \"#E5ECF6\", \"caxis\": {\"gridcolor\": \"white\", \"linecolor\": \"white\", \"ticks\": \"\"}}, \"title\": {\"x\": 0.05}, \"xaxis\": {\"automargin\": true, \"gridcolor\": \"white\", \"linecolor\": \"white\", \"ticks\": \"\", \"title\": {\"standoff\": 15}, \"zerolinecolor\": \"white\", \"zerolinewidth\": 2}, \"yaxis\": {\"automargin\": true, \"gridcolor\": \"white\", \"linecolor\": \"white\", \"ticks\": \"\", \"title\": {\"standoff\": 15}, \"zerolinecolor\": \"white\", \"zerolinewidth\": 2}}}, \"title\": {\"font\": {\"color\": \"#4D5663\"}}, \"xaxis\": {\"gridcolor\": \"#E1E5ED\", \"showgrid\": true, \"tickfont\": {\"color\": \"#4D5663\"}, \"title\": {\"font\": {\"color\": \"#4D5663\"}, \"text\": \"\"}, \"zerolinecolor\": \"#E1E5ED\"}, \"yaxis\": {\"gridcolor\": \"#E1E5ED\", \"showgrid\": true, \"tickfont\": {\"color\": \"#4D5663\"}, \"title\": {\"font\": {\"color\": \"#4D5663\"}, \"text\": \"\"}, \"zerolinecolor\": \"#E1E5ED\"}},                        {\"showLink\": true, \"linkText\": \"Export to plot.ly\", \"plotlyServerURL\": \"https://plot.ly\", \"responsive\": true}                    ).then(function(){\n",
       "                            \n",
       "var gd = document.getElementById('f71d722d-c45c-4370-94f0-9182f8de549b');\n",
       "var x = new MutationObserver(function (mutations, observer) {{\n",
       "        var display = window.getComputedStyle(gd).display;\n",
       "        if (!display || display === 'none') {{\n",
       "            console.log([gd, 'removed!']);\n",
       "            Plotly.purge(gd);\n",
       "            observer.disconnect();\n",
       "        }}\n",
       "}});\n",
       "\n",
       "// Listen for the removal of the full notebook cells\n",
       "var notebookContainer = gd.closest('#notebook-container');\n",
       "if (notebookContainer) {{\n",
       "    x.observe(notebookContainer, {childList: true});\n",
       "}}\n",
       "\n",
       "// Listen for the clearing of the current output cell\n",
       "var outputEl = gd.closest('.output');\n",
       "if (outputEl) {{\n",
       "    x.observe(outputEl, {childList: true});\n",
       "}}\n",
       "\n",
       "                        })                };                });            </script>        </div>"
      ]
     },
     "metadata": {},
     "output_type": "display_data"
    }
   ],
   "source": [
    "df['fare'].iplot(kind='hist',bins=30,color='red')"
   ]
  },
  {
   "cell_type": "markdown",
   "metadata": {},
   "source": [
    "## Data Cleaning"
   ]
  },
  {
   "cell_type": "markdown",
   "metadata": {},
   "source": [
    "We want to fill in missing age data instead of just dropping the missing age data rows. One way to do this is by filling in the mean age of all the passengers (imputation).\n",
    "However we can be smarter about this and check the average age by passenger class. For example:"
   ]
  },
  {
   "cell_type": "code",
   "execution_count": 114,
   "metadata": {},
   "outputs": [
    {
     "data": {
      "text/plain": [
       "<AxesSubplot:xlabel='pclass', ylabel='age'>"
      ]
     },
     "execution_count": 114,
     "metadata": {},
     "output_type": "execute_result"
    },
    {
     "data": {
      "image/png": "[encoded data removed]",
      "text/plain": [
       "<Figure size 864x504 with 1 Axes>"
      ]
     },
     "metadata": {},
     "output_type": "display_data"
    }
   ],
   "source": [
    "plt.figure(figsize=(12,7))\n",
    "sns.boxplot(x='pclass',y='age', data=df, palette='winter')"
   ]
  },
  {
   "cell_type": "markdown",
   "metadata": {},
   "source": [
    "We can see the wealthier passengers in the higher classes tend to be older, which makes sense. We'll use these average age values to impute based on Pclass for Age."
   ]
  },
  {
   "cell_type": "code",
   "execution_count": 115,
   "metadata": {},
   "outputs": [],
   "source": [
    "def impute_age(cols):\n",
    "    age = cols[0]\n",
    "    pclass = cols[1]\n",
    "    \n",
    "    if pd.isnull(age):\n",
    "\n",
    "        if pclass == 1:\n",
    "            return 37\n",
    "\n",
    "        elif pclass == 2:\n",
    "            return 29\n",
    "\n",
    "        else:\n",
    "            return 24\n",
    "\n",
    "    else:\n",
    "        return age"
   ]
  },
  {
   "cell_type": "code",
   "execution_count": 116,
   "metadata": {},
   "outputs": [],
   "source": [
    "df['age'] = df[['age','pclass']].apply(impute_age,axis=1)"
   ]
  },
  {
   "cell_type": "code",
   "execution_count": 117,
   "metadata": {},
   "outputs": [
    {
     "data": {
      "text/plain": [
       "<AxesSubplot:>"
      ]
     },
     "execution_count": 117,
     "metadata": {},
     "output_type": "execute_result"
    },
    {
     "data": {
      "image/png": "[encoded data removed]",
      "text/plain": [
       "<Figure size 432x288 with 1 Axes>"
      ]
     },
     "metadata": {},
     "output_type": "display_data"
    }
   ],
   "source": [
    "sns.heatmap(df.isnull(),yticklabels=False,cbar=False,cmap='viridis')"
   ]
  },
  {
   "cell_type": "markdown",
   "metadata": {},
   "source": [
    "### Great! Now let's drop the columns cabin, boat, body,home.dest"
   ]
  },
  {
   "cell_type": "code",
   "execution_count": 119,
   "metadata": {},
   "outputs": [],
   "source": [
    "df.drop(['cabin','boat','body'],axis=1,inplace=True)"
   ]
  },
  {
   "cell_type": "code",
   "execution_count": 120,
   "metadata": {},
   "outputs": [
    {
     "data": {
      "text/html": [
       "<div>\n",
       "<style scoped>\n",
       "    .dataframe tbody tr th:only-of-type {\n",
       "        vertical-align: middle;\n",
       "    }\n",
       "\n",
       "    .dataframe tbody tr th {\n",
       "        vertical-align: top;\n",
       "    }\n",
       "\n",
       "    .dataframe thead th {\n",
       "        text-align: right;\n",
       "    }\n",
       "</style>\n",
       "<table border=\"1\" class=\"dataframe\">\n",
       "  <thead>\n",
       "    <tr style=\"text-align: right;\">\n",
       "      <th></th>\n",
       "      <th>pclass</th>\n",
       "      <th>survived</th>\n",
       "      <th>name</th>\n",
       "      <th>sex</th>\n",
       "      <th>age</th>\n",
       "      <th>sibsp</th>\n",
       "      <th>parch</th>\n",
       "      <th>ticket</th>\n",
       "      <th>fare</th>\n",
       "      <th>embarked</th>\n",
       "      <th>home.dest</th>\n",
       "    </tr>\n",
       "  </thead>\n",
       "  <tbody>\n",
       "    <tr>\n",
       "      <th>0</th>\n",
       "      <td>1</td>\n",
       "      <td>1</td>\n",
       "      <td>Allen, Miss. Elisabeth Walton</td>\n",
       "      <td>female</td>\n",
       "      <td>29.00</td>\n",
       "      <td>0</td>\n",
       "      <td>0</td>\n",
       "      <td>24160</td>\n",
       "      <td>211.3375</td>\n",
       "      <td>S</td>\n",
       "      <td>St Louis, MO</td>\n",
       "    </tr>\n",
       "    <tr>\n",
       "      <th>1</th>\n",
       "      <td>1</td>\n",
       "      <td>1</td>\n",
       "      <td>Allison, Master. Hudson Trevor</td>\n",
       "      <td>male</td>\n",
       "      <td>0.92</td>\n",
       "      <td>1</td>\n",
       "      <td>2</td>\n",
       "      <td>113781</td>\n",
       "      <td>151.5500</td>\n",
       "      <td>S</td>\n",
       "      <td>Montreal, PQ / Chesterville, ON</td>\n",
       "    </tr>\n",
       "    <tr>\n",
       "      <th>2</th>\n",
       "      <td>1</td>\n",
       "      <td>0</td>\n",
       "      <td>Allison, Miss. Helen Loraine</td>\n",
       "      <td>female</td>\n",
       "      <td>2.00</td>\n",
       "      <td>1</td>\n",
       "      <td>2</td>\n",
       "      <td>113781</td>\n",
       "      <td>151.5500</td>\n",
       "      <td>S</td>\n",
       "      <td>Montreal, PQ / Chesterville, ON</td>\n",
       "    </tr>\n",
       "    <tr>\n",
       "      <th>3</th>\n",
       "      <td>1</td>\n",
       "      <td>0</td>\n",
       "      <td>Allison, Mr. Hudson Joshua Creighton</td>\n",
       "      <td>male</td>\n",
       "      <td>30.00</td>\n",
       "      <td>1</td>\n",
       "      <td>2</td>\n",
       "      <td>113781</td>\n",
       "      <td>151.5500</td>\n",
       "      <td>S</td>\n",
       "      <td>Montreal, PQ / Chesterville, ON</td>\n",
       "    </tr>\n",
       "    <tr>\n",
       "      <th>4</th>\n",
       "      <td>1</td>\n",
       "      <td>0</td>\n",
       "      <td>Allison, Mrs. Hudson J C (Bessie Waldo Daniels)</td>\n",
       "      <td>female</td>\n",
       "      <td>25.00</td>\n",
       "      <td>1</td>\n",
       "      <td>2</td>\n",
       "      <td>113781</td>\n",
       "      <td>151.5500</td>\n",
       "      <td>S</td>\n",
       "      <td>Montreal, PQ / Chesterville, ON</td>\n",
       "    </tr>\n",
       "  </tbody>\n",
       "</table>\n",
       "</div>"
      ],
      "text/plain": [
       "   pclass  survived                                             name     sex  \\\n",
       "0       1         1                    Allen, Miss. Elisabeth Walton  female   \n",
       "1       1         1                   Allison, Master. Hudson Trevor    male   \n",
       "2       1         0                     Allison, Miss. Helen Loraine  female   \n",
       "3       1         0             Allison, Mr. Hudson Joshua Creighton    male   \n",
       "4       1         0  Allison, Mrs. Hudson J C (Bessie Waldo Daniels)  female   \n",
       "\n",
       "     age  sibsp  parch  ticket      fare embarked  \\\n",
       "0  29.00      0      0   24160  211.3375        S   \n",
       "1   0.92      1      2  113781  151.5500        S   \n",
       "2   2.00      1      2  113781  151.5500        S   \n",
       "3  30.00      1      2  113781  151.5500        S   \n",
       "4  25.00      1      2  113781  151.5500        S   \n",
       "\n",
       "                         home.dest  \n",
       "0                     St Louis, MO  \n",
       "1  Montreal, PQ / Chesterville, ON  \n",
       "2  Montreal, PQ / Chesterville, ON  \n",
       "3  Montreal, PQ / Chesterville, ON  \n",
       "4  Montreal, PQ / Chesterville, ON  "
      ]
     },
     "execution_count": 120,
     "metadata": {},
     "output_type": "execute_result"
    }
   ],
   "source": [
    "df.head()"
   ]
  },
  {
   "cell_type": "code",
   "execution_count": 121,
   "metadata": {},
   "outputs": [],
   "source": [
    "df.drop('home.dest',axis=1,inplace=True)"
   ]
  },
  {
   "cell_type": "code",
   "execution_count": 122,
   "metadata": {},
   "outputs": [
    {
     "data": {
      "text/plain": [
       "<AxesSubplot:>"
      ]
     },
     "execution_count": 122,
     "metadata": {},
     "output_type": "execute_result"
    },
    {
     "data": {
      "image/png": "[encoded data removed]",
      "text/plain": [
       "<Figure size 432x288 with 1 Axes>"
      ]
     },
     "metadata": {},
     "output_type": "display_data"
    }
   ],
   "source": [
    "sns.heatmap(df.isnull(),yticklabels=False,cbar=False,cmap='viridis')"
   ]
  },
  {
   "cell_type": "code",
   "execution_count": 123,
   "metadata": {},
   "outputs": [],
   "source": [
    "df.dropna(inplace=True)"
   ]
  },
  {
   "cell_type": "markdown",
   "metadata": {},
   "source": [
    "## Converting categorical fetures"
   ]
  },
  {
   "cell_type": "code",
   "execution_count": 124,
   "metadata": {},
   "outputs": [
    {
     "name": "stdout",
     "output_type": "stream",
     "text": [
      "<class 'pandas.core.frame.DataFrame'>\n",
      "Int64Index: 1306 entries, 0 to 1308\n",
      "Data columns (total 10 columns):\n",
      " #   Column    Non-Null Count  Dtype  \n",
      "---  ------    --------------  -----  \n",
      " 0   pclass    1306 non-null   int64  \n",
      " 1   survived  1306 non-null   int64  \n",
      " 2   name      1306 non-null   object \n",
      " 3   sex       1306 non-null   object \n",
      " 4   age       1306 non-null   float64\n",
      " 5   sibsp     1306 non-null   int64  \n",
      " 6   parch     1306 non-null   int64  \n",
      " 7   ticket    1306 non-null   object \n",
      " 8   fare      1306 non-null   float64\n",
      " 9   embarked  1306 non-null   object \n",
      "dtypes: float64(2), int64(4), object(4)\n",
      "memory usage: 112.2+ KB\n"
     ]
    }
   ],
   "source": [
    "df.info()"
   ]
  },
  {
   "cell_type": "markdown",
   "metadata": {},
   "source": [
    "sex = pd.get_dummies(df['sex'],drop_first=True)\n",
    "embark = pd.get_dummies(df['embarked'],drop_first=True)"
   ]
  },
  {
   "cell_type": "code",
   "execution_count": 125,
   "metadata": {},
   "outputs": [],
   "source": [
    "df.drop(['sex','embarked','name','ticket'],axis=1,inplace=True)"
   ]
  },
  {
   "cell_type": "code",
   "execution_count": 126,
   "metadata": {},
   "outputs": [],
   "source": [
    "df = pd.concat([df,sex,embark],axis=1)"
   ]
  },
  {
   "cell_type": "code",
   "execution_count": 135,
   "metadata": {},
   "outputs": [
    {
     "data": {
      "text/html": [
       "<div>\n",
       "<style scoped>\n",
       "    .dataframe tbody tr th:only-of-type {\n",
       "        vertical-align: middle;\n",
       "    }\n",
       "\n",
       "    .dataframe tbody tr th {\n",
       "        vertical-align: top;\n",
       "    }\n",
       "\n",
       "    .dataframe thead th {\n",
       "        text-align: right;\n",
       "    }\n",
       "</style>\n",
       "<table border=\"1\" class=\"dataframe\">\n",
       "  <thead>\n",
       "    <tr style=\"text-align: right;\">\n",
       "      <th></th>\n",
       "      <th>pclass</th>\n",
       "      <th>survived</th>\n",
       "      <th>age</th>\n",
       "      <th>sibsp</th>\n",
       "      <th>parch</th>\n",
       "      <th>fare</th>\n",
       "      <th>male</th>\n",
       "      <th>Q</th>\n",
       "      <th>S</th>\n",
       "    </tr>\n",
       "  </thead>\n",
       "  <tbody>\n",
       "    <tr>\n",
       "      <th>0</th>\n",
       "      <td>1</td>\n",
       "      <td>1</td>\n",
       "      <td>29.00</td>\n",
       "      <td>0</td>\n",
       "      <td>0</td>\n",
       "      <td>211.3375</td>\n",
       "      <td>0</td>\n",
       "      <td>0</td>\n",
       "      <td>1</td>\n",
       "    </tr>\n",
       "    <tr>\n",
       "      <th>1</th>\n",
       "      <td>1</td>\n",
       "      <td>1</td>\n",
       "      <td>0.92</td>\n",
       "      <td>1</td>\n",
       "      <td>2</td>\n",
       "      <td>151.5500</td>\n",
       "      <td>1</td>\n",
       "      <td>0</td>\n",
       "      <td>1</td>\n",
       "    </tr>\n",
       "    <tr>\n",
       "      <th>2</th>\n",
       "      <td>1</td>\n",
       "      <td>0</td>\n",
       "      <td>2.00</td>\n",
       "      <td>1</td>\n",
       "      <td>2</td>\n",
       "      <td>151.5500</td>\n",
       "      <td>0</td>\n",
       "      <td>0</td>\n",
       "      <td>1</td>\n",
       "    </tr>\n",
       "    <tr>\n",
       "      <th>3</th>\n",
       "      <td>1</td>\n",
       "      <td>0</td>\n",
       "      <td>30.00</td>\n",
       "      <td>1</td>\n",
       "      <td>2</td>\n",
       "      <td>151.5500</td>\n",
       "      <td>1</td>\n",
       "      <td>0</td>\n",
       "      <td>1</td>\n",
       "    </tr>\n",
       "    <tr>\n",
       "      <th>4</th>\n",
       "      <td>1</td>\n",
       "      <td>0</td>\n",
       "      <td>25.00</td>\n",
       "      <td>1</td>\n",
       "      <td>2</td>\n",
       "      <td>151.5500</td>\n",
       "      <td>0</td>\n",
       "      <td>0</td>\n",
       "      <td>1</td>\n",
       "    </tr>\n",
       "    <tr>\n",
       "      <th>...</th>\n",
       "      <td>...</td>\n",
       "      <td>...</td>\n",
       "      <td>...</td>\n",
       "      <td>...</td>\n",
       "      <td>...</td>\n",
       "      <td>...</td>\n",
       "      <td>...</td>\n",
       "      <td>...</td>\n",
       "      <td>...</td>\n",
       "    </tr>\n",
       "    <tr>\n",
       "      <th>1304</th>\n",
       "      <td>3</td>\n",
       "      <td>0</td>\n",
       "      <td>14.50</td>\n",
       "      <td>1</td>\n",
       "      <td>0</td>\n",
       "      <td>14.4542</td>\n",
       "      <td>0</td>\n",
       "      <td>0</td>\n",
       "      <td>0</td>\n",
       "    </tr>\n",
       "    <tr>\n",
       "      <th>1305</th>\n",
       "      <td>3</td>\n",
       "      <td>0</td>\n",
       "      <td>24.00</td>\n",
       "      <td>1</td>\n",
       "      <td>0</td>\n",
       "      <td>14.4542</td>\n",
       "      <td>0</td>\n",
       "      <td>0</td>\n",
       "      <td>0</td>\n",
       "    </tr>\n",
       "    <tr>\n",
       "      <th>1306</th>\n",
       "      <td>3</td>\n",
       "      <td>0</td>\n",
       "      <td>26.50</td>\n",
       "      <td>0</td>\n",
       "      <td>0</td>\n",
       "      <td>7.2250</td>\n",
       "      <td>1</td>\n",
       "      <td>0</td>\n",
       "      <td>0</td>\n",
       "    </tr>\n",
       "    <tr>\n",
       "      <th>1307</th>\n",
       "      <td>3</td>\n",
       "      <td>0</td>\n",
       "      <td>27.00</td>\n",
       "      <td>0</td>\n",
       "      <td>0</td>\n",
       "      <td>7.2250</td>\n",
       "      <td>1</td>\n",
       "      <td>0</td>\n",
       "      <td>0</td>\n",
       "    </tr>\n",
       "    <tr>\n",
       "      <th>1308</th>\n",
       "      <td>3</td>\n",
       "      <td>0</td>\n",
       "      <td>29.00</td>\n",
       "      <td>0</td>\n",
       "      <td>0</td>\n",
       "      <td>7.8750</td>\n",
       "      <td>1</td>\n",
       "      <td>0</td>\n",
       "      <td>1</td>\n",
       "    </tr>\n",
       "  </tbody>\n",
       "</table>\n",
       "<p>1306 rows × 9 columns</p>\n",
       "</div>"
      ],
      "text/plain": [
       "      pclass  survived    age  sibsp  parch      fare  male  Q  S\n",
       "0          1         1  29.00      0      0  211.3375     0  0  1\n",
       "1          1         1   0.92      1      2  151.5500     1  0  1\n",
       "2          1         0   2.00      1      2  151.5500     0  0  1\n",
       "3          1         0  30.00      1      2  151.5500     1  0  1\n",
       "4          1         0  25.00      1      2  151.5500     0  0  1\n",
       "...      ...       ...    ...    ...    ...       ...   ... .. ..\n",
       "1304       3         0  14.50      1      0   14.4542     0  0  0\n",
       "1305       3         0  24.00      1      0   14.4542     0  0  0\n",
       "1306       3         0  26.50      0      0    7.2250     1  0  0\n",
       "1307       3         0  27.00      0      0    7.2250     1  0  0\n",
       "1308       3         0  29.00      0      0    7.8750     1  0  1\n",
       "\n",
       "[1306 rows x 9 columns]"
      ]
     },
     "execution_count": 135,
     "metadata": {},
     "output_type": "execute_result"
    }
   ],
   "source": [
    "df"
   ]
  },
  {
   "cell_type": "code",
   "execution_count": 149,
   "metadata": {},
   "outputs": [
    {
     "data": {
      "text/plain": [
       "(1306, 9)"
      ]
     },
     "execution_count": 149,
     "metadata": {},
     "output_type": "execute_result"
    }
   ],
   "source": [
    "df.shape"
   ]
  },
  {
   "cell_type": "markdown",
   "metadata": {},
   "source": [
    "# Building Logistic Regression Model"
   ]
  },
  {
   "cell_type": "code",
   "execution_count": 128,
   "metadata": {},
   "outputs": [],
   "source": [
    "from sklearn.model_selection import train_test_split"
   ]
  },
  {
   "cell_type": "code",
   "execution_count": 136,
   "metadata": {},
   "outputs": [],
   "source": [
    "X_train, X_test, y_test, y_train = train_test_split(df.drop('survived',axis=1),df['survived'],test_size =0.5)"
   ]
  },
  {
   "cell_type": "code",
   "execution_count": null,
   "metadata": {},
   "outputs": [],
   "source": []
  },
  {
   "cell_type": "markdown",
   "metadata": {},
   "source": [
    "# Training and Predicting"
   ]
  },
  {
   "cell_type": "code",
   "execution_count": 137,
   "metadata": {},
   "outputs": [],
   "source": [
    "from sklearn.linear_model import LogisticRegression"
   ]
  },
  {
   "cell_type": "code",
   "execution_count": 144,
   "metadata": {},
   "outputs": [],
   "source": [
    "lr = LogisticRegression(max_iter=10000)\n"
   ]
  },
  {
   "cell_type": "code",
   "execution_count": 145,
   "metadata": {},
   "outputs": [
    {
     "data": {
      "text/plain": [
       "LogisticRegression(max_iter=10000)"
      ]
     },
     "execution_count": 145,
     "metadata": {},
     "output_type": "execute_result"
    }
   ],
   "source": [
    "lr.fit(X_train,y_train)"
   ]
  },
  {
   "cell_type": "code",
   "execution_count": 146,
   "metadata": {},
   "outputs": [],
   "source": [
    "prediction = lr.predict(X_test)"
   ]
  },
  {
   "cell_type": "code",
   "execution_count": 150,
   "metadata": {},
   "outputs": [],
   "source": [
    "import warnings\n",
    "warnings.filterwarnings('ignore')"
   ]
  },
  {
   "cell_type": "markdown",
   "metadata": {},
   "source": [
    "## Evaluation"
   ]
  },
  {
   "cell_type": "code",
   "execution_count": 151,
   "metadata": {},
   "outputs": [],
   "source": [
    "from sklearn.metrics import classification_report"
   ]
  },
  {
   "cell_type": "code",
   "execution_count": 152,
   "metadata": {},
   "outputs": [
    {
     "name": "stdout",
     "output_type": "stream",
     "text": [
      "              precision    recall  f1-score   support\n",
      "\n",
      "           0       0.61      1.00      0.76       397\n",
      "           1       0.00      0.00      0.00       256\n",
      "\n",
      "    accuracy                           0.61       653\n",
      "   macro avg       0.30      0.50      0.38       653\n",
      "weighted avg       0.37      0.61      0.46       653\n",
      "\n"
     ]
    }
   ],
   "source": [
    "print(classification_report(y_test,prediction))"
   ]
  },
  {
   "cell_type": "code",
   "execution_count": null,
   "metadata": {},
   "outputs": [],
   "source": []
  }
 ],
 "metadata": {
  "kernelspec": {
   "display_name": "Python 3",
   "language": "python",
   "name": "python3"
  },
  "language_info": {
   "codemirror_mode": {
    "name": "ipython",
    "version": 3
   },
   "file_extension": ".py",
   "mimetype": "text/x-python",
   "name": "python",
   "nbconvert_exporter": "python",
   "pygments_lexer": "ipython3",
   "version": "3.8.5"
  }
 },
 "nbformat": 4,
 "nbformat_minor": 4
}
